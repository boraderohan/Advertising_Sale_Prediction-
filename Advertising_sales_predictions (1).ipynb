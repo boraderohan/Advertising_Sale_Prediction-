{
 "cells": [
  {
   "cell_type": "markdown",
   "metadata": {},
   "source": [
    "# Sales Channel Prediction Case Study  \n",
    "\n",
    "When a company enters a market, the distribution strategy and channel it uses are keys to its success in the market, as well as market know-how and customer knowledge and understanding. Because an effective distribution strategy under efficient supply-chain management opens doors for attaining competitive advantage and strong brand equity in the market, it is a component of the marketing mix that cannot be ignored . \n",
    "\n",
    "The distribution strategy and the channel design have to be right the first time. The case study of Sales channel includes the detailed study of TV, radio and newspaper channel. The predict the total sales generated from all the sales channel. "
   ]
  },
  {
   "cell_type": "code",
   "execution_count": 1,
   "metadata": {},
   "outputs": [],
   "source": [
    "import pandas as pd \n",
    "import numpy as np\n",
    "import scipy\n",
    "import sklearn\n",
    "import seaborn as sns\n",
    "from sklearn.preprocessing import StandardScaler\n",
    "import matplotlib.pyplot as plt\n",
    "from sklearn.linear_model import LinearRegression\n",
    "from sklearn.metrics import mean_squared_error,mean_absolute_error,r2_score\n",
    "from sklearn.model_selection import train_test_split\n",
    "import warnings\n",
    "warnings.filterwarnings('ignore')"
   ]
  },
  {
   "cell_type": "code",
   "execution_count": 2,
   "metadata": {},
   "outputs": [
    {
     "data": {
      "text/html": [
       "<div>\n",
       "<style scoped>\n",
       "    .dataframe tbody tr th:only-of-type {\n",
       "        vertical-align: middle;\n",
       "    }\n",
       "\n",
       "    .dataframe tbody tr th {\n",
       "        vertical-align: top;\n",
       "    }\n",
       "\n",
       "    .dataframe thead th {\n",
       "        text-align: right;\n",
       "    }\n",
       "</style>\n",
       "<table border=\"1\" class=\"dataframe\">\n",
       "  <thead>\n",
       "    <tr style=\"text-align: right;\">\n",
       "      <th></th>\n",
       "      <th>Unnamed: 0</th>\n",
       "      <th>TV</th>\n",
       "      <th>radio</th>\n",
       "      <th>newspaper</th>\n",
       "      <th>sales</th>\n",
       "    </tr>\n",
       "  </thead>\n",
       "  <tbody>\n",
       "    <tr>\n",
       "      <th>0</th>\n",
       "      <td>1</td>\n",
       "      <td>230.1</td>\n",
       "      <td>37.8</td>\n",
       "      <td>69.2</td>\n",
       "      <td>22.1</td>\n",
       "    </tr>\n",
       "    <tr>\n",
       "      <th>1</th>\n",
       "      <td>2</td>\n",
       "      <td>44.5</td>\n",
       "      <td>39.3</td>\n",
       "      <td>45.1</td>\n",
       "      <td>10.4</td>\n",
       "    </tr>\n",
       "    <tr>\n",
       "      <th>2</th>\n",
       "      <td>3</td>\n",
       "      <td>17.2</td>\n",
       "      <td>45.9</td>\n",
       "      <td>69.3</td>\n",
       "      <td>9.3</td>\n",
       "    </tr>\n",
       "    <tr>\n",
       "      <th>3</th>\n",
       "      <td>4</td>\n",
       "      <td>151.5</td>\n",
       "      <td>41.3</td>\n",
       "      <td>58.5</td>\n",
       "      <td>18.5</td>\n",
       "    </tr>\n",
       "    <tr>\n",
       "      <th>4</th>\n",
       "      <td>5</td>\n",
       "      <td>180.8</td>\n",
       "      <td>10.8</td>\n",
       "      <td>58.4</td>\n",
       "      <td>12.9</td>\n",
       "    </tr>\n",
       "  </tbody>\n",
       "</table>\n",
       "</div>"
      ],
      "text/plain": [
       "   Unnamed: 0     TV  radio  newspaper  sales\n",
       "0           1  230.1   37.8       69.2   22.1\n",
       "1           2   44.5   39.3       45.1   10.4\n",
       "2           3   17.2   45.9       69.3    9.3\n",
       "3           4  151.5   41.3       58.5   18.5\n",
       "4           5  180.8   10.8       58.4   12.9"
      ]
     },
     "execution_count": 2,
     "metadata": {},
     "output_type": "execute_result"
    }
   ],
   "source": [
    "df = pd.read_csv(\"Advertising.csv\")\n",
    "df.head()"
   ]
  },
  {
   "cell_type": "code",
   "execution_count": 3,
   "metadata": {},
   "outputs": [
    {
     "data": {
      "text/plain": [
       "(200, 5)"
      ]
     },
     "execution_count": 3,
     "metadata": {},
     "output_type": "execute_result"
    }
   ],
   "source": [
    "df.shape"
   ]
  },
  {
   "cell_type": "code",
   "execution_count": 4,
   "metadata": {},
   "outputs": [
    {
     "data": {
      "text/plain": [
       "Unnamed: 0      int64\n",
       "TV            float64\n",
       "radio         float64\n",
       "newspaper     float64\n",
       "sales         float64\n",
       "dtype: object"
      ]
     },
     "execution_count": 4,
     "metadata": {},
     "output_type": "execute_result"
    }
   ],
   "source": [
    "df.dtypes"
   ]
  },
  {
   "cell_type": "code",
   "execution_count": 5,
   "metadata": {},
   "outputs": [
    {
     "data": {
      "text/plain": [
       "Index(['Unnamed: 0', 'TV', 'radio', 'newspaper', 'sales'], dtype='object')"
      ]
     },
     "execution_count": 5,
     "metadata": {},
     "output_type": "execute_result"
    }
   ],
   "source": [
    "df.columns"
   ]
  },
  {
   "cell_type": "code",
   "execution_count": 6,
   "metadata": {},
   "outputs": [
    {
     "name": "stdout",
     "output_type": "stream",
     "text": [
      "<class 'pandas.core.frame.DataFrame'>\n",
      "RangeIndex: 200 entries, 0 to 199\n",
      "Data columns (total 5 columns):\n",
      " #   Column      Non-Null Count  Dtype  \n",
      "---  ------      --------------  -----  \n",
      " 0   Unnamed: 0  200 non-null    int64  \n",
      " 1   TV          200 non-null    float64\n",
      " 2   radio       200 non-null    float64\n",
      " 3   newspaper   200 non-null    float64\n",
      " 4   sales       200 non-null    float64\n",
      "dtypes: float64(4), int64(1)\n",
      "memory usage: 7.9 KB\n"
     ]
    }
   ],
   "source": [
    "df.info()"
   ]
  },
  {
   "cell_type": "code",
   "execution_count": 7,
   "metadata": {},
   "outputs": [
    {
     "data": {
      "text/html": [
       "<div>\n",
       "<style scoped>\n",
       "    .dataframe tbody tr th:only-of-type {\n",
       "        vertical-align: middle;\n",
       "    }\n",
       "\n",
       "    .dataframe tbody tr th {\n",
       "        vertical-align: top;\n",
       "    }\n",
       "\n",
       "    .dataframe thead th {\n",
       "        text-align: right;\n",
       "    }\n",
       "</style>\n",
       "<table border=\"1\" class=\"dataframe\">\n",
       "  <thead>\n",
       "    <tr style=\"text-align: right;\">\n",
       "      <th></th>\n",
       "      <th>Unnamed: 0</th>\n",
       "      <th>TV</th>\n",
       "      <th>radio</th>\n",
       "      <th>newspaper</th>\n",
       "      <th>sales</th>\n",
       "    </tr>\n",
       "  </thead>\n",
       "  <tbody>\n",
       "    <tr>\n",
       "      <th>count</th>\n",
       "      <td>200.000000</td>\n",
       "      <td>200.000000</td>\n",
       "      <td>200.000000</td>\n",
       "      <td>200.000000</td>\n",
       "      <td>200.000000</td>\n",
       "    </tr>\n",
       "    <tr>\n",
       "      <th>mean</th>\n",
       "      <td>100.500000</td>\n",
       "      <td>147.042500</td>\n",
       "      <td>23.264000</td>\n",
       "      <td>30.554000</td>\n",
       "      <td>14.022500</td>\n",
       "    </tr>\n",
       "    <tr>\n",
       "      <th>std</th>\n",
       "      <td>57.879185</td>\n",
       "      <td>85.854236</td>\n",
       "      <td>14.846809</td>\n",
       "      <td>21.778621</td>\n",
       "      <td>5.217457</td>\n",
       "    </tr>\n",
       "    <tr>\n",
       "      <th>min</th>\n",
       "      <td>1.000000</td>\n",
       "      <td>0.700000</td>\n",
       "      <td>0.000000</td>\n",
       "      <td>0.300000</td>\n",
       "      <td>1.600000</td>\n",
       "    </tr>\n",
       "    <tr>\n",
       "      <th>25%</th>\n",
       "      <td>50.750000</td>\n",
       "      <td>74.375000</td>\n",
       "      <td>9.975000</td>\n",
       "      <td>12.750000</td>\n",
       "      <td>10.375000</td>\n",
       "    </tr>\n",
       "    <tr>\n",
       "      <th>50%</th>\n",
       "      <td>100.500000</td>\n",
       "      <td>149.750000</td>\n",
       "      <td>22.900000</td>\n",
       "      <td>25.750000</td>\n",
       "      <td>12.900000</td>\n",
       "    </tr>\n",
       "    <tr>\n",
       "      <th>75%</th>\n",
       "      <td>150.250000</td>\n",
       "      <td>218.825000</td>\n",
       "      <td>36.525000</td>\n",
       "      <td>45.100000</td>\n",
       "      <td>17.400000</td>\n",
       "    </tr>\n",
       "    <tr>\n",
       "      <th>max</th>\n",
       "      <td>200.000000</td>\n",
       "      <td>296.400000</td>\n",
       "      <td>49.600000</td>\n",
       "      <td>114.000000</td>\n",
       "      <td>27.000000</td>\n",
       "    </tr>\n",
       "  </tbody>\n",
       "</table>\n",
       "</div>"
      ],
      "text/plain": [
       "       Unnamed: 0          TV       radio   newspaper       sales\n",
       "count  200.000000  200.000000  200.000000  200.000000  200.000000\n",
       "mean   100.500000  147.042500   23.264000   30.554000   14.022500\n",
       "std     57.879185   85.854236   14.846809   21.778621    5.217457\n",
       "min      1.000000    0.700000    0.000000    0.300000    1.600000\n",
       "25%     50.750000   74.375000    9.975000   12.750000   10.375000\n",
       "50%    100.500000  149.750000   22.900000   25.750000   12.900000\n",
       "75%    150.250000  218.825000   36.525000   45.100000   17.400000\n",
       "max    200.000000  296.400000   49.600000  114.000000   27.000000"
      ]
     },
     "execution_count": 7,
     "metadata": {},
     "output_type": "execute_result"
    }
   ],
   "source": [
    "df.describe()"
   ]
  },
  {
   "cell_type": "code",
   "execution_count": 8,
   "metadata": {},
   "outputs": [
    {
     "data": {
      "text/plain": [
       "Unnamed: 0    0\n",
       "TV            0\n",
       "radio         0\n",
       "newspaper     0\n",
       "sales         0\n",
       "dtype: int64"
      ]
     },
     "execution_count": 8,
     "metadata": {},
     "output_type": "execute_result"
    }
   ],
   "source": [
    "df.isnull().sum()"
   ]
  },
  {
   "cell_type": "code",
   "execution_count": 9,
   "metadata": {},
   "outputs": [
    {
     "data": {
      "text/html": [
       "<div>\n",
       "<style scoped>\n",
       "    .dataframe tbody tr th:only-of-type {\n",
       "        vertical-align: middle;\n",
       "    }\n",
       "\n",
       "    .dataframe tbody tr th {\n",
       "        vertical-align: top;\n",
       "    }\n",
       "\n",
       "    .dataframe thead th {\n",
       "        text-align: right;\n",
       "    }\n",
       "</style>\n",
       "<table border=\"1\" class=\"dataframe\">\n",
       "  <thead>\n",
       "    <tr style=\"text-align: right;\">\n",
       "      <th></th>\n",
       "      <th>SrNo</th>\n",
       "      <th>TV</th>\n",
       "      <th>radio</th>\n",
       "      <th>newspaper</th>\n",
       "      <th>sales</th>\n",
       "    </tr>\n",
       "  </thead>\n",
       "  <tbody>\n",
       "    <tr>\n",
       "      <th>0</th>\n",
       "      <td>1</td>\n",
       "      <td>230.1</td>\n",
       "      <td>37.8</td>\n",
       "      <td>69.2</td>\n",
       "      <td>22.1</td>\n",
       "    </tr>\n",
       "    <tr>\n",
       "      <th>1</th>\n",
       "      <td>2</td>\n",
       "      <td>44.5</td>\n",
       "      <td>39.3</td>\n",
       "      <td>45.1</td>\n",
       "      <td>10.4</td>\n",
       "    </tr>\n",
       "    <tr>\n",
       "      <th>2</th>\n",
       "      <td>3</td>\n",
       "      <td>17.2</td>\n",
       "      <td>45.9</td>\n",
       "      <td>69.3</td>\n",
       "      <td>9.3</td>\n",
       "    </tr>\n",
       "    <tr>\n",
       "      <th>3</th>\n",
       "      <td>4</td>\n",
       "      <td>151.5</td>\n",
       "      <td>41.3</td>\n",
       "      <td>58.5</td>\n",
       "      <td>18.5</td>\n",
       "    </tr>\n",
       "    <tr>\n",
       "      <th>4</th>\n",
       "      <td>5</td>\n",
       "      <td>180.8</td>\n",
       "      <td>10.8</td>\n",
       "      <td>58.4</td>\n",
       "      <td>12.9</td>\n",
       "    </tr>\n",
       "    <tr>\n",
       "      <th>...</th>\n",
       "      <td>...</td>\n",
       "      <td>...</td>\n",
       "      <td>...</td>\n",
       "      <td>...</td>\n",
       "      <td>...</td>\n",
       "    </tr>\n",
       "    <tr>\n",
       "      <th>195</th>\n",
       "      <td>196</td>\n",
       "      <td>38.2</td>\n",
       "      <td>3.7</td>\n",
       "      <td>13.8</td>\n",
       "      <td>7.6</td>\n",
       "    </tr>\n",
       "    <tr>\n",
       "      <th>196</th>\n",
       "      <td>197</td>\n",
       "      <td>94.2</td>\n",
       "      <td>4.9</td>\n",
       "      <td>8.1</td>\n",
       "      <td>9.7</td>\n",
       "    </tr>\n",
       "    <tr>\n",
       "      <th>197</th>\n",
       "      <td>198</td>\n",
       "      <td>177.0</td>\n",
       "      <td>9.3</td>\n",
       "      <td>6.4</td>\n",
       "      <td>12.8</td>\n",
       "    </tr>\n",
       "    <tr>\n",
       "      <th>198</th>\n",
       "      <td>199</td>\n",
       "      <td>283.6</td>\n",
       "      <td>42.0</td>\n",
       "      <td>66.2</td>\n",
       "      <td>25.5</td>\n",
       "    </tr>\n",
       "    <tr>\n",
       "      <th>199</th>\n",
       "      <td>200</td>\n",
       "      <td>232.1</td>\n",
       "      <td>8.6</td>\n",
       "      <td>8.7</td>\n",
       "      <td>13.4</td>\n",
       "    </tr>\n",
       "  </tbody>\n",
       "</table>\n",
       "<p>200 rows × 5 columns</p>\n",
       "</div>"
      ],
      "text/plain": [
       "     SrNo     TV  radio  newspaper  sales\n",
       "0       1  230.1   37.8       69.2   22.1\n",
       "1       2   44.5   39.3       45.1   10.4\n",
       "2       3   17.2   45.9       69.3    9.3\n",
       "3       4  151.5   41.3       58.5   18.5\n",
       "4       5  180.8   10.8       58.4   12.9\n",
       "..    ...    ...    ...        ...    ...\n",
       "195   196   38.2    3.7       13.8    7.6\n",
       "196   197   94.2    4.9        8.1    9.7\n",
       "197   198  177.0    9.3        6.4   12.8\n",
       "198   199  283.6   42.0       66.2   25.5\n",
       "199   200  232.1    8.6        8.7   13.4\n",
       "\n",
       "[200 rows x 5 columns]"
      ]
     },
     "execution_count": 9,
     "metadata": {},
     "output_type": "execute_result"
    }
   ],
   "source": [
    "df.columns.values[0] = \"SrNo\"\n",
    "df"
   ]
  },
  {
   "cell_type": "markdown",
   "metadata": {},
   "source": [
    "# Data Visulation"
   ]
  },
  {
   "cell_type": "code",
   "execution_count": 10,
   "metadata": {},
   "outputs": [
    {
     "data": {
      "text/plain": [
       "<AxesSubplot:>"
      ]
     },
     "execution_count": 10,
     "metadata": {},
     "output_type": "execute_result"
    },
    {
     "data": {
      "image/png": "[encoded data removed]",
      "text/plain": [
       "<Figure size 432x288 with 2 Axes>"
      ]
     },
     "metadata": {
      "needs_background": "light"
     },
     "output_type": "display_data"
    }
   ],
   "source": [
    "sns.heatmap(df.isnull())"
   ]
  },
  {
   "cell_type": "markdown",
   "metadata": {},
   "source": [
    "There is no null values in the dataset"
   ]
  },
  {
   "cell_type": "code",
   "execution_count": 11,
   "metadata": {},
   "outputs": [
    {
     "data": {
      "text/plain": [
       "<AxesSubplot:ylabel='Frequency'>"
      ]
     },
     "execution_count": 11,
     "metadata": {},
     "output_type": "execute_result"
    },
    {
     "data": {
      "image/png": "[encoded data removed]",
      "text/plain": [
       "<Figure size 432x288 with 1 Axes>"
      ]
     },
     "metadata": {
      "needs_background": "light"
     },
     "output_type": "display_data"
    }
   ],
   "source": [
    "df[\"TV\"].plot.hist()"
   ]
  },
  {
   "cell_type": "code",
   "execution_count": 12,
   "metadata": {},
   "outputs": [
    {
     "data": {
      "text/plain": [
       "<AxesSubplot:ylabel='Frequency'>"
      ]
     },
     "execution_count": 12,
     "metadata": {},
     "output_type": "execute_result"
    },
    {
     "data": {
      "image/png": "[encoded data removed]",
      "text/plain": [
       "<Figure size 432x288 with 1 Axes>"
      ]
     },
     "metadata": {
      "needs_background": "light"
     },
     "output_type": "display_data"
    }
   ],
   "source": [
    "df[\"radio\"].plot.hist()"
   ]
  },
  {
   "cell_type": "code",
   "execution_count": 13,
   "metadata": {},
   "outputs": [
    {
     "data": {
      "text/plain": [
       "<AxesSubplot:ylabel='Frequency'>"
      ]
     },
     "execution_count": 13,
     "metadata": {},
     "output_type": "execute_result"
    },
    {
     "data": {
      "image/png": "[encoded data removed]",
      "text/plain": [
       "<Figure size 432x288 with 1 Axes>"
      ]
     },
     "metadata": {
      "needs_background": "light"
     },
     "output_type": "display_data"
    }
   ],
   "source": [
    "df[\"newspaper\"].plot.hist()"
   ]
  },
  {
   "cell_type": "code",
   "execution_count": 14,
   "metadata": {},
   "outputs": [
    {
     "data": {
      "image/png": "[encoded data removed]",
      "text/plain": [
       "<Figure size 432x288 with 1 Axes>"
      ]
     },
     "metadata": {
      "needs_background": "light"
     },
     "output_type": "display_data"
    }
   ],
   "source": [
    "plt.scatter(data = df,x = \"TV\",y = \"sales\")\n",
    "plt.show()"
   ]
  },
  {
   "cell_type": "code",
   "execution_count": 15,
   "metadata": {},
   "outputs": [
    {
     "data": {
      "image/png": "[encoded data removed]",
      "text/plain": [
       "<Figure size 432x288 with 1 Axes>"
      ]
     },
     "metadata": {
      "needs_background": "light"
     },
     "output_type": "display_data"
    }
   ],
   "source": [
    "plt.scatter(data = df,x = \"radio\",y = \"sales\")\n",
    "plt.show()"
   ]
  },
  {
   "cell_type": "code",
   "execution_count": 16,
   "metadata": {},
   "outputs": [
    {
     "data": {
      "image/png": "[encoded data removed]",
      "text/plain": [
       "<Figure size 432x288 with 1 Axes>"
      ]
     },
     "metadata": {
      "needs_background": "light"
     },
     "output_type": "display_data"
    }
   ],
   "source": [
    "plt.scatter(data = df,x =\"newspaper\",y = \"sales\")\n",
    "plt.show()"
   ]
  },
  {
   "cell_type": "code",
   "execution_count": 17,
   "metadata": {},
   "outputs": [
    {
     "data": {
      "text/plain": [
       "<AxesSubplot:xlabel='TV', ylabel='sales'>"
      ]
     },
     "execution_count": 17,
     "metadata": {},
     "output_type": "execute_result"
    },
    {
     "data": {
      "image/png": "[encoded data removed]",
      "text/plain": [
       "<Figure size 432x288 with 1 Axes>"
      ]
     },
     "metadata": {
      "needs_background": "light"
     },
     "output_type": "display_data"
    }
   ],
   "source": [
    "sns.regplot(data = df,x = \"TV\",y = \"sales\")"
   ]
  },
  {
   "cell_type": "code",
   "execution_count": 18,
   "metadata": {},
   "outputs": [
    {
     "data": {
      "text/plain": [
       "<AxesSubplot:xlabel='radio', ylabel='sales'>"
      ]
     },
     "execution_count": 18,
     "metadata": {},
     "output_type": "execute_result"
    },
    {
     "data": {
      "image/png": "[encoded data removed]",
      "text/plain": [
       "<Figure size 432x288 with 1 Axes>"
      ]
     },
     "metadata": {
      "needs_background": "light"
     },
     "output_type": "display_data"
    }
   ],
   "source": [
    "sns.regplot(data = df,x =\"radio\",y = \"sales\")"
   ]
  },
  {
   "cell_type": "code",
   "execution_count": 19,
   "metadata": {},
   "outputs": [
    {
     "data": {
      "text/plain": [
       "<AxesSubplot:xlabel='newspaper', ylabel='sales'>"
      ]
     },
     "execution_count": 19,
     "metadata": {},
     "output_type": "execute_result"
    },
    {
     "data": {
      "image/png": "[encoded data removed]",
      "text/plain": [
       "<Figure size 432x288 with 1 Axes>"
      ]
     },
     "metadata": {
      "needs_background": "light"
     },
     "output_type": "display_data"
    }
   ],
   "source": [
    "sns.regplot(data = df,x = \"newspaper\",y =\"sales\")"
   ]
  },
  {
   "cell_type": "code",
   "execution_count": 20,
   "metadata": {},
   "outputs": [
    {
     "data": {
      "text/plain": [
       "<AxesSubplot:xlabel='TV', ylabel='Density'>"
      ]
     },
     "execution_count": 20,
     "metadata": {},
     "output_type": "execute_result"
    },
    {
     "data": {
      "image/png": "[encoded data removed]",
      "text/plain": [
       "<Figure size 432x288 with 1 Axes>"
      ]
     },
     "metadata": {
      "needs_background": "light"
     },
     "output_type": "display_data"
    }
   ],
   "source": [
    "sns.distplot(df[\"TV\"])"
   ]
  },
  {
   "cell_type": "code",
   "execution_count": 21,
   "metadata": {},
   "outputs": [
    {
     "data": {
      "text/plain": [
       "<AxesSubplot:xlabel='radio', ylabel='Density'>"
      ]
     },
     "execution_count": 21,
     "metadata": {},
     "output_type": "execute_result"
    },
    {
     "data": {
      "image/png": "[encoded data removed]",
      "text/plain": [
       "<Figure size 432x288 with 1 Axes>"
      ]
     },
     "metadata": {
      "needs_background": "light"
     },
     "output_type": "display_data"
    }
   ],
   "source": [
    "sns.distplot(df[\"radio\"])"
   ]
  },
  {
   "cell_type": "code",
   "execution_count": 22,
   "metadata": {},
   "outputs": [
    {
     "data": {
      "text/plain": [
       "<AxesSubplot:xlabel='newspaper', ylabel='Density'>"
      ]
     },
     "execution_count": 22,
     "metadata": {},
     "output_type": "execute_result"
    },
    {
     "data": {
      "image/png": "[encoded data removed]",
      "text/plain": [
       "<Figure size 432x288 with 1 Axes>"
      ]
     },
     "metadata": {
      "needs_background": "light"
     },
     "output_type": "display_data"
    }
   ],
   "source": [
    "sns.distplot(df[\"newspaper\"])"
   ]
  },
  {
   "cell_type": "code",
   "execution_count": 23,
   "metadata": {},
   "outputs": [
    {
     "data": {
      "text/html": [
       "<div>\n",
       "<style scoped>\n",
       "    .dataframe tbody tr th:only-of-type {\n",
       "        vertical-align: middle;\n",
       "    }\n",
       "\n",
       "    .dataframe tbody tr th {\n",
       "        vertical-align: top;\n",
       "    }\n",
       "\n",
       "    .dataframe thead th {\n",
       "        text-align: right;\n",
       "    }\n",
       "</style>\n",
       "<table border=\"1\" class=\"dataframe\">\n",
       "  <thead>\n",
       "    <tr style=\"text-align: right;\">\n",
       "      <th></th>\n",
       "      <th>SrNo</th>\n",
       "      <th>TV</th>\n",
       "      <th>radio</th>\n",
       "      <th>newspaper</th>\n",
       "      <th>sales</th>\n",
       "    </tr>\n",
       "  </thead>\n",
       "  <tbody>\n",
       "    <tr>\n",
       "      <th>SrNo</th>\n",
       "      <td>1.000000</td>\n",
       "      <td>0.017715</td>\n",
       "      <td>-0.110680</td>\n",
       "      <td>-0.154944</td>\n",
       "      <td>-0.051616</td>\n",
       "    </tr>\n",
       "    <tr>\n",
       "      <th>TV</th>\n",
       "      <td>0.017715</td>\n",
       "      <td>1.000000</td>\n",
       "      <td>0.054809</td>\n",
       "      <td>0.056648</td>\n",
       "      <td>0.782224</td>\n",
       "    </tr>\n",
       "    <tr>\n",
       "      <th>radio</th>\n",
       "      <td>-0.110680</td>\n",
       "      <td>0.054809</td>\n",
       "      <td>1.000000</td>\n",
       "      <td>0.354104</td>\n",
       "      <td>0.576223</td>\n",
       "    </tr>\n",
       "    <tr>\n",
       "      <th>newspaper</th>\n",
       "      <td>-0.154944</td>\n",
       "      <td>0.056648</td>\n",
       "      <td>0.354104</td>\n",
       "      <td>1.000000</td>\n",
       "      <td>0.228299</td>\n",
       "    </tr>\n",
       "    <tr>\n",
       "      <th>sales</th>\n",
       "      <td>-0.051616</td>\n",
       "      <td>0.782224</td>\n",
       "      <td>0.576223</td>\n",
       "      <td>0.228299</td>\n",
       "      <td>1.000000</td>\n",
       "    </tr>\n",
       "  </tbody>\n",
       "</table>\n",
       "</div>"
      ],
      "text/plain": [
       "               SrNo        TV     radio  newspaper     sales\n",
       "SrNo       1.000000  0.017715 -0.110680  -0.154944 -0.051616\n",
       "TV         0.017715  1.000000  0.054809   0.056648  0.782224\n",
       "radio     -0.110680  0.054809  1.000000   0.354104  0.576223\n",
       "newspaper -0.154944  0.056648  0.354104   1.000000  0.228299\n",
       "sales     -0.051616  0.782224  0.576223   0.228299  1.000000"
      ]
     },
     "execution_count": 23,
     "metadata": {},
     "output_type": "execute_result"
    }
   ],
   "source": [
    "corr = df.corr()\n",
    "corr"
   ]
  },
  {
   "cell_type": "code",
   "execution_count": 24,
   "metadata": {},
   "outputs": [
    {
     "data": {
      "text/plain": [
       "array([<AxesSubplot:title={'center':'SrNo'}>,\n",
       "       <AxesSubplot:title={'center':'TV'}>,\n",
       "       <AxesSubplot:title={'center':'radio'}>,\n",
       "       <AxesSubplot:title={'center':'newspaper'}>,\n",
       "       <AxesSubplot:title={'center':'sales'}>], dtype=object)"
      ]
     },
     "execution_count": 24,
     "metadata": {},
     "output_type": "execute_result"
    },
    {
     "data": {
      "image/png": "[encoded data removed]",
      "text/plain": [
       "<Figure size 1080x1080 with 5 Axes>"
      ]
     },
     "metadata": {
      "needs_background": "light"
     },
     "output_type": "display_data"
    }
   ],
   "source": [
    "corr.plot(kind = \"bar\",subplots = True,figsize = (15,15))"
   ]
  },
  {
   "cell_type": "code",
   "execution_count": 25,
   "metadata": {},
   "outputs": [
    {
     "data": {
      "text/plain": [
       "<AxesSubplot:>"
      ]
     },
     "execution_count": 25,
     "metadata": {},
     "output_type": "execute_result"
    },
    {
     "data": {
      "image/png": "[encoded data removed]",
      "text/plain": [
       "<Figure size 864x720 with 2 Axes>"
      ]
     },
     "metadata": {
      "needs_background": "light"
     },
     "output_type": "display_data"
    }
   ],
   "source": [
    "corr_map = df.corr()\n",
    "plt.figure(figsize= (12,10))\n",
    "sns.heatmap(corr_map,annot = True)"
   ]
  },
  {
   "cell_type": "markdown",
   "metadata": {},
   "source": [
    "# Correlation Outcome\n",
    "some of the columns in dataset are positively and some are negatively correlated.unnamed has -52 percent correlation with target column sales which can be considered has weak bond. TV has 78 percent correlation with target column sales which can be considered has strong bond.radio has 58 percent correltion with target column sales which can be considerd has good bond.newspaper has 23 percent correlation with target column sales which can be considered has good bond"
   ]
  },
  {
   "cell_type": "code",
   "execution_count": 26,
   "metadata": {},
   "outputs": [
    {
     "data": {
      "image/png": "[encoded data removed]",
      "text/plain": [
       "<Figure size 1584x504 with 1 Axes>"
      ]
     },
     "metadata": {
      "needs_background": "light"
     },
     "output_type": "display_data"
    }
   ],
   "source": [
    "plt.figure(figsize = (22,7))\n",
    "df.corr()['sales'].sort_values(ascending = False).drop(['sales']).plot(kind ='bar',color ='c')\n",
    "plt.xlabel('Feature',fontsize = 14)\n",
    "plt.ylabel(\"column with target names \",fontsize= 14)\n",
    "plt.title(\"correlation\",fontsize = 18)\n",
    "plt.show()"
   ]
  },
  {
   "cell_type": "markdown",
   "metadata": {},
   "source": [
    "# plotting the outliers"
   ]
  },
  {
   "cell_type": "code",
   "execution_count": 27,
   "metadata": {},
   "outputs": [
    {
     "data": {
      "text/plain": [
       "SrNo         0.000000\n",
       "TV          -0.069853\n",
       "radio        0.094175\n",
       "newspaper    0.894720\n",
       "sales        0.407571\n",
       "dtype: float64"
      ]
     },
     "execution_count": 27,
     "metadata": {},
     "output_type": "execute_result"
    }
   ],
   "source": [
    "df.skew()"
   ]
  },
  {
   "cell_type": "code",
   "execution_count": 28,
   "metadata": {},
   "outputs": [
    {
     "data": {
      "text/plain": [
       "SrNo            AxesSubplot(0.125,0.125;0.133621x0.755)\n",
       "TV           AxesSubplot(0.285345,0.125;0.133621x0.755)\n",
       "radio         AxesSubplot(0.44569,0.125;0.133621x0.755)\n",
       "newspaper    AxesSubplot(0.606034,0.125;0.133621x0.755)\n",
       "sales        AxesSubplot(0.766379,0.125;0.133621x0.755)\n",
       "dtype: object"
      ]
     },
     "execution_count": 28,
     "metadata": {},
     "output_type": "execute_result"
    },
    {
     "data": {
      "image/png": "[encoded data removed]",
      "text/plain": [
       "<Figure size 648x648 with 5 Axes>"
      ]
     },
     "metadata": {
      "needs_background": "light"
     },
     "output_type": "display_data"
    }
   ],
   "source": [
    "df.plot(kind = 'box',subplots = True,figsize =(9,9))"
   ]
  },
  {
   "cell_type": "markdown",
   "metadata": {},
   "source": [
    "# Removing the outliers "
   ]
  },
  {
   "cell_type": "code",
   "execution_count": 29,
   "metadata": {},
   "outputs": [
    {
     "data": {
      "text/plain": [
       "array([[1.72341210e+00, 9.69852266e-01, 9.81522472e-01, 1.77894547e+00,\n",
       "        1.55205313e+00],\n",
       "       [1.70609137e+00, 1.19737623e+00, 1.08280781e+00, 6.69578760e-01,\n",
       "        6.96046111e-01],\n",
       "       [1.68877065e+00, 1.51615499e+00, 1.52846331e+00, 1.78354865e+00,\n",
       "        9.07405869e-01],\n",
       "       [1.67144992e+00, 5.20496822e-02, 1.21785493e+00, 1.28640506e+00,\n",
       "        8.60330287e-01],\n",
       "       [1.65412920e+00, 3.94182198e-01, 8.41613655e-01, 1.28180188e+00,\n",
       "        2.15683025e-01],\n",
       "       [1.63680847e+00, 1.61540845e+00, 1.73103399e+00, 2.04592999e+00,\n",
       "        1.31091086e+00],\n",
       "       [1.61948775e+00, 1.04557682e+00, 6.43904671e-01, 3.24708413e-01,\n",
       "        4.27042783e-01],\n",
       "       [1.60216702e+00, 3.13436589e-01, 2.47406325e-01, 8.72486994e-01,\n",
       "        1.58039455e-01],\n",
       "       [1.58484630e+00, 1.61657614e+00, 1.42906863e+00, 1.36042422e+00,\n",
       "        1.77205942e+00],\n",
       "       [1.56752558e+00, 6.16042873e-01, 1.39530685e+00, 4.30581584e-01,\n",
       "        6.57617064e-01],\n",
       "       [1.55020485e+00, 9.45155670e-01, 1.17923146e+00, 2.92486143e-01,\n",
       "        1.04190753e+00],\n",
       "       [1.53288413e+00, 7.90028350e-01, 4.96973404e-02, 1.22232878e+00,\n",
       "        6.48970529e-01],\n",
       "       [1.51556340e+00, 1.43908760e+00, 7.99208859e-01, 1.62704048e+00,\n",
       "        9.26620392e-01],\n",
       "       [1.49824268e+00, 5.78501712e-01, 1.05768905e+00, 1.07502697e+00,\n",
       "        8.30547775e-01],\n",
       "       [1.48092195e+00, 6.66253447e-01, 6.50657027e-01, 7.11007392e-01,\n",
       "        9.56402904e-01],\n",
       "       [1.46360123e+00, 5.64664612e-01, 1.65000572e+00, 1.02862691e+00,\n",
       "        1.60969670e+00],\n",
       "       [1.44628050e+00, 9.25304978e-01, 9.00494200e-01, 3.84117072e+00,\n",
       "        2.92541119e-01],\n",
       "       [1.42895978e+00, 1.56887609e+00, 1.10306488e+00, 1.16211917e+00,\n",
       "        1.99398717e+00],\n",
       "       [1.41163905e+00, 9.08957349e-01, 1.86635121e-01, 5.64073843e-01,\n",
       "        5.23115400e-01],\n",
       "       [1.39431833e+00, 3.00679600e-03, 4.29449843e-02, 5.27248393e-01,\n",
       "        1.10963873e-01],\n",
       "       [1.37699760e+00, 8.33232798e-01, 2.99534513e-01, 1.05164281e+00,\n",
       "        7.64257669e-01],\n",
       "       [1.35967688e+00, 1.05509347e+00, 1.22649795e+00, 3.24708413e-01,\n",
       "        2.92541119e-01],\n",
       "       [1.34235616e+00, 1.56286250e+00, 4.97243498e-01, 8.76721921e-01,\n",
       "        1.61834324e+00],\n",
       "       [1.32503543e+00, 9.48833887e-01, 4.29719938e-01, 2.00422516e-01,\n",
       "        2.83894584e-01],\n",
       "       [1.30771471e+00, 9.89527805e-01, 7.20071247e-01, 5.64073843e-01,\n",
       "        8.30547775e-01],\n",
       "       [1.29039398e+00, 1.35285385e+00, 1.33453565e+00, 5.08835667e-01,\n",
       "        3.88613736e-01],\n",
       "       [1.27307326e+00, 4.83714657e-02, 4.07572210e-01, 8.26455181e-01,\n",
       "        1.87821967e-01],\n",
       "       [1.25575253e+00, 1.08662104e+00, 4.43224650e-01, 3.52327501e-01,\n",
       "        3.60752677e-01],\n",
       "       [1.23843181e+00, 1.18820988e+00, 2.59020377e-01, 3.52327501e-01,\n",
       "        9.37188380e-01],\n",
       "       [1.22111108e+00, 8.92609721e-01, 4.90491142e-01, 4.71641962e-01,\n",
       "        6.76831588e-01],\n",
       "       [1.20379036e+00, 1.70316018e+00, 3.40048650e-01, 5.82118314e-01,\n",
       "        1.41755147e+00],\n",
       "       [1.18646963e+00, 3.98677796e-01, 3.95958157e-01, 3.70371972e-01,\n",
       "        4.07828260e-01],\n",
       "       [1.16914891e+00, 5.82004775e-01, 1.46958277e+00, 2.55016247e-02,\n",
       "        8.49762299e-01],\n",
       "       [1.15182818e+00, 1.38438142e+00, 2.20396901e-01, 1.39264649e+00,\n",
       "        6.48970529e-01],\n",
       "       [1.13450746e+00, 5.99520091e-01, 1.47633512e+00, 1.06582061e+00,\n",
       "        8.68976822e-01],\n",
       "       [1.11718674e+00, 1.67747105e+00, 1.29402151e+00, 1.01518562e+00,\n",
       "        2.34897549e-01],\n",
       "       [1.09986601e+00, 1.39956136e+00, 1.38666383e+00, 1.17629696e+00,\n",
       "        2.18613240e+00],\n",
       "       [1.08254529e+00, 8.44734522e-01, 1.76479577e+00, 6.97197848e-01,\n",
       "        1.30178396e-01],\n",
       "       [1.06522456e+00, 1.21372386e+00, 2.32010953e-01, 2.09260624e-01,\n",
       "        7.53689682e-01],\n",
       "       [1.04790384e+00, 9.45330823e-01, 9.74770116e-01, 6.65620024e-02,\n",
       "        1.43676599e+00],\n",
       "       [1.03058311e+00, 6.47570443e-01, 6.50927121e-02, 4.81492770e-02,\n",
       "        4.95254341e-01],\n",
       "       [1.01326239e+00, 3.49810063e-01, 6.84418807e-01, 3.74975153e-01,\n",
       "        5.91326959e-01],\n",
       "       [9.95941664e-01, 1.71133400e+00, 2.99534513e-01, 1.32359877e+00,\n",
       "        1.28304980e+00],\n",
       "       [9.78620939e-01, 6.98948705e-01, 1.00367020e+00, 1.91216154e-01,\n",
       "        2.15683025e-01],\n",
       "       [9.61300215e-01, 1.42390765e+00, 1.64487393e-01, 5.86721496e-01,\n",
       "        1.06112206e+00],\n",
       "       [9.43979490e-01, 3.27623995e-01, 5.15880000e-02, 4.35460956e-02,\n",
       "        1.68607443e-01],\n",
       "       [9.26658765e-01, 6.69581357e-01, 9.02384859e-01, 2.36879713e-01,\n",
       "        6.57617064e-01],\n",
       "       [9.09338041e-01, 1.08428567e+00, 1.23135965e+00, 5.54867481e-01,\n",
       "        1.76341289e+00],\n",
       "       [8.92017316e-01, 9.35989321e-01, 5.03995854e-01, 8.90531465e-01,\n",
       "        1.49392920e-01],\n",
       "       [8.74696592e-01, 9.35814168e-01, 7.80842451e-01, 2.87514708e-01,\n",
       "        8.30547775e-01],\n",
       "       [8.57375867e-01, 6.16042873e-01, 1.36154507e+00, 1.86244718e-01,\n",
       "        5.03900877e-01],\n",
       "       [8.40055142e-01, 5.44638766e-01, 9.22641928e-01, 1.24074150e+00,\n",
       "        6.38402541e-01],\n",
       "       [8.22734418e-01, 8.09879042e-01, 1.24486436e+00, 4.16403786e-01,\n",
       "        1.64812575e+00],\n",
       "       [8.05413693e-01, 4.15200577e-01, 1.54872038e+00, 1.29561142e+00,\n",
       "        1.37912242e+00],\n",
       "       [7.88092969e-01, 1.35051848e+00, 3.73810430e-01, 6.74550196e-01,\n",
       "        1.18697718e+00],\n",
       "       [7.70772244e-01, 6.05533683e-01, 1.76479577e+00, 1.35545278e+00,\n",
       "        1.85948550e+00],\n",
       "       [7.53451519e-01, 1.63175608e+00, 3.26543937e-01, 4.99261050e-01,\n",
       "        1.63755776e+00],\n",
       "       [7.36130795e-01, 1.26606546e-01, 2.74415749e-01, 6.42327927e-01,\n",
       "        1.58039455e-01],\n",
       "       [7.18810070e-01, 7.44488528e-01, 1.77830048e+00, 3.28943340e-01,\n",
       "        1.87870003e+00],\n",
       "       [7.01489346e-01, 7.43320840e-01, 4.21076922e-01, 9.78360166e-01,\n",
       "        8.41115763e-01],\n",
       "       [6.84168621e-01, 1.09228433e+00, 1.43582099e+00, 4.21375221e-01,\n",
       "        1.13798015e+00],\n",
       "       [6.66847897e-01, 1.33417085e+00, 1.31238792e+00, 1.11148417e+00,\n",
       "        1.95555812e+00],\n",
       "       [6.49527172e-01, 1.07727954e+00, 5.24252922e-01, 1.49787521e-01,\n",
       "        3.22323631e-01],\n",
       "       [6.32206447e-01, 5.17781948e-01, 4.27829278e-01, 1.01978880e+00,\n",
       "        4.32326777e-03],\n",
       "       [6.14885723e-01, 1.86158622e-01, 1.31914027e+00, 7.61366196e-02,\n",
       "        7.64257669e-01],\n",
       "       [5.97564998e-01, 9.11292725e-01, 9.42898996e-01, 1.36502740e+00,\n",
       "        9.07405869e-01],\n",
       "       [5.80244274e-01, 1.34917564e+00, 9.02114765e-02, 1.30518604e+00,\n",
       "        8.68976822e-01],\n",
       "       [5.62923549e-01, 9.04082253e-02, 5.91776482e-01, 9.36931533e-01,\n",
       "        1.19610408e-01],\n",
       "       [5.45602824e-01, 1.05509347e+00, 2.86029801e-01, 9.00106083e-01,\n",
       "        9.37188380e-01],\n",
       "       [5.28282100e-01, 8.14549794e-01, 1.39341619e+00, 1.54390703e-01,\n",
       "        1.59048218e+00],\n",
       "       [5.10961375e-01, 6.07869059e-01, 4.95352838e-01, 3.74975153e-01,\n",
       "        8.21901240e-01],\n",
       "       [4.93640651e-01, 4.34876116e-01, 6.05281194e-01, 5.27524584e-02,\n",
       "        3.11755643e-01],\n",
       "       [4.76319926e-01, 1.40405696e+00, 6.57409383e-01, 5.18042030e-01,\n",
       "        1.00347849e+00],\n",
       "       [4.58999202e-01, 2.06009314e-01, 1.18598381e+00, 3.43397329e-02,\n",
       "        5.80758971e-01],\n",
       "       [4.41678477e-01, 7.74848409e-01, 9.02114765e-02, 8.03439274e-01,\n",
       "        5.72112435e-01],\n",
       "       [4.24357752e-01, 1.51965805e+00, 1.37991148e+00, 2.70878810e+00,\n",
       "        1.02269301e+00],\n",
       "       [4.07037028e-01, 1.39588315e+00, 1.46283041e+00, 4.53597491e-01,\n",
       "        1.36855443e+00],\n",
       "       [3.89716303e-01, 3.09933525e-01, 3.53553362e-01, 7.52804279e-01,\n",
       "        3.41057791e-02],\n",
       "       [3.72395579e-01, 1.65394214e+00, 4.48086346e-01, 9.73756984e-01,\n",
       "        1.67598681e+00],\n",
       "       [3.55074854e-01, 3.62479475e-01, 1.05093669e+00, 3.43121138e-01,\n",
       "        5.80758971e-01],\n",
       "       [3.37754129e-01, 8.24883830e-01, 2.32010953e-01, 3.79946589e-01,\n",
       "        4.27042783e-01],\n",
       "       [3.20433405e-01, 1.08311798e+00, 1.29402151e+00, 2.92117889e-01,\n",
       "        3.30970166e-01],\n",
       "       [3.03112680e-01, 8.37728396e-01, 2.00139833e-01, 8.95779092e-02,\n",
       "        5.23115400e-01],\n",
       "       [2.85791956e-01, 9.18298852e-01, 1.43393033e+00, 2.32276531e-01,\n",
       "        8.11813615e-02],\n",
       "       [2.68471231e-01, 7.76016097e-01, 1.33264499e+00, 1.49419267e-01,\n",
       "        1.47519504e+00],\n",
       "       [2.51150506e-01, 5.38975481e-01, 3.28434597e-01, 1.61783412e+00,\n",
       "        2.26251013e-01],\n",
       "       [2.33829782e-01, 8.26051518e-01, 2.86029801e-01, 6.69947015e-01,\n",
       "        3.88613736e-01],\n",
       "       [2.16509057e-01, 4.24366926e-01, 1.17058844e+00, 1.50275459e+00,\n",
       "        3.79967201e-01],\n",
       "       [1.99188333e-01, 6.85928986e-01, 1.50982681e-01, 1.97227908e+00,\n",
       "        2.15683025e-01],\n",
       "       [1.81867608e-01, 4.34876116e-01, 1.65675807e+00, 9.59579186e-01,\n",
       "        5.14468865e-01],\n",
       "       [1.64546884e-01, 1.48792614e-01, 1.24000266e+00, 9.78360166e-01,\n",
       "        5.42329924e-01],\n",
       "       [1.47226159e-01, 1.38303858e+00, 1.46958277e+00, 1.12593816e-01,\n",
       "        1.29169634e+00],\n",
       "       [1.29905434e-01, 8.25058983e-01, 6.91171163e-01, 1.30942097e+00,\n",
       "        1.03326100e+00],\n",
       "       [1.12584710e-01, 1.21273132e+00, 8.93741844e-01, 1.92164409e+00,\n",
       "        1.57126765e+00],\n",
       "       [9.52639852e-02, 4.62900623e-01, 6.25538262e-01, 9.04709264e-01,\n",
       "        4.84686354e-01],\n",
       "       [7.79432606e-02, 1.89836839e-01, 5.62876398e-01, 1.02862691e+00,\n",
       "        5.52897912e-01],\n",
       "       [6.06225361e-02, 5.90353742e-01, 1.33453565e+00, 1.13486833e+00,\n",
       "        4.46257307e-01],\n",
       "       [4.33018115e-02, 4.42057396e-01, 1.52873340e-01, 3.93756133e-01,\n",
       "        2.83894584e-01],\n",
       "       [2.59810869e-02, 1.66579418e+00, 1.28537849e+00, 9.50372823e-01,\n",
       "        2.18613240e+00],\n",
       "       [8.66036229e-03, 1.38283424e-01, 1.24486436e+00, 7.06404211e-01,\n",
       "        6.10541482e-01],\n",
       "       [8.66036229e-03, 8.79940308e-01, 1.28051680e+00, 8.85928284e-01,\n",
       "        4.46257307e-01],\n",
       "       [2.59810869e-02, 1.74402926e+00, 8.80237132e-01, 3.23815396e+00,\n",
       "        1.87870003e+00],\n",
       "       [4.33018115e-02, 1.55486384e+00, 8.88880147e-01, 4.21375221e-01,\n",
       "        1.49392920e-01],\n",
       "       [6.06225361e-02, 4.77088029e-01, 4.09462869e-01, 5.82486569e-01,\n",
       "        1.30178396e-01],\n",
       "       [7.79432606e-02, 1.06443498e+00, 7.45190011e-01, 1.16248742e+00,\n",
       "        1.28304980e+00],\n",
       "       [9.52639852e-02, 1.06755854e-01, 1.56222509e+00, 1.30942097e+00,\n",
       "        9.94831951e-01],\n",
       "       [1.12584710e-01, 1.42507534e+00, 8.28108943e-01, 3.93111688e-02,\n",
       "        1.31091086e+00],\n",
       "       [1.29905434e-01, 6.61407543e-01, 1.55061104e+00, 3.38517957e-01,\n",
       "        1.02269301e+00],\n",
       "       [1.47226159e-01, 1.56403019e+00, 1.54385868e+00, 2.28041604e-01,\n",
       "        1.67598681e+00],\n",
       "       [1.64546884e-01, 1.26527727e+00, 2.45515665e-01, 1.15328106e+00,\n",
       "        1.11011909e+00],\n",
       "       [1.81867608e-01, 9.19641692e-01, 1.01717491e+00, 1.19434143e+00,\n",
       "        1.19610408e-01],\n",
       "       [1.99188333e-01, 1.10530405e+00, 9.95027184e-01, 3.38517957e-01,\n",
       "        1.49440956e+00],\n",
       "       [2.16509057e-01, 3.34630122e-01, 5.31005278e-01, 1.29597968e+00,\n",
       "        1.48912557e-02],\n",
       "       [2.33829782e-01, 7.30476274e-01, 1.79882765e-01, 9.13915627e-01,\n",
       "        3.60752677e-01],\n",
       "       [2.51150506e-01, 8.03865450e-01, 1.58923451e+00, 1.81641536e-01,\n",
       "        1.10963873e-01],\n",
       "       [2.68471231e-01, 8.40063771e-01, 7.92456503e-01, 1.01942054e+00,\n",
       "        2.73326596e-01],\n",
       "       [2.85791956e-01, 9.15759131e-02, 6.05281194e-01, 2.28041604e-01,\n",
       "        3.50184689e-01],\n",
       "       [3.03112680e-01, 8.24883830e-01, 1.51684926e+00, 7.25185191e-01,\n",
       "        8.88191346e-01],\n",
       "       [3.20433405e-01, 2.49213762e-01, 9.20751268e-01, 2.23926360e+00,\n",
       "        3.60752677e-01],\n",
       "       [3.37754129e-01, 1.49046586e+00, 4.90491142e-01, 3.79946589e-01,\n",
       "        1.42619800e+00],\n",
       "       [3.55074854e-01, 6.70544700e-02, 2.38763309e-01, 7.20213755e-01,\n",
       "        2.83894584e-01],\n",
       "       [3.72395579e-01, 1.49747198e+00, 1.05606848e-01, 9.13547372e-01,\n",
       "        1.34933991e+00],\n",
       "       [3.89716303e-01, 8.98623313e-01, 1.40881156e+00, 6.88359740e-01,\n",
       "        4.65471830e-01],\n",
       "       [4.07037028e-01, 2.79573643e-01, 7.65447079e-01, 8.35661544e-01,\n",
       "        2.26251013e-01],\n",
       "       [4.24357752e-01, 9.62846140e-01, 6.10142891e-01, 2.00910454e+00,\n",
       "        1.09090457e+00],\n",
       "       [4.41678477e-01, 6.98773552e-01, 7.74090095e-01, 2.14232060e-01,\n",
       "        6.57617064e-01],\n",
       "       [4.58999202e-01, 1.62591764e+00, 1.05579839e+00, 9.22753735e-01,\n",
       "        1.42619800e+00],\n",
       "       [4.76319926e-01, 7.80511695e-01, 1.57086811e+00, 9.82963347e-01,\n",
       "        1.00347849e+00],\n",
       "       [4.93640651e-01, 8.55418865e-01, 1.73778635e+00, 1.25915423e+00,\n",
       "        2.05163074e+00],\n",
       "       [5.10961375e-01, 1.02105537e+00, 7.60585383e-01, 5.77515133e-01,\n",
       "        8.30547775e-01],\n",
       "       [5.28282100e-01, 1.70882347e+00, 1.10306488e+00, 1.00597925e+00,\n",
       "        2.38692417e+00],\n",
       "       [5.45602824e-01, 1.37971067e+00, 1.37504978e+00, 5.72911952e-01,\n",
       "        2.54112072e-01],\n",
       "       [5.62923549e-01, 1.61891151e+00, 2.65772733e-01, 1.30978922e+00,\n",
       "        1.59912871e+00],\n",
       "       [5.80244274e-01, 8.49580427e-01, 6.91171163e-01, 6.69578760e-01,\n",
       "        1.07169004e+00],\n",
       "       [5.97564998e-01, 1.28612050e+00, 1.03554132e+00, 1.61323094e+00,\n",
       "        6.19188018e-01],\n",
       "       [6.14885723e-01, 1.15300409e+00, 1.60273923e+00, 1.01518562e+00,\n",
       "        4.65471830e-01],\n",
       "       [6.32206447e-01, 1.41806922e+00, 1.06255074e+00, 9.78360166e-01,\n",
       "        8.68976822e-01],\n",
       "       [6.49527172e-01, 1.47896413e+00, 3.80562786e-01, 1.34164324e+00,\n",
       "        1.30226433e+00],\n",
       "       [6.66847897e-01, 1.21489154e+00, 1.77992105e-01, 4.62803854e-01,\n",
       "        8.49762299e-01],\n",
       "       [6.84168621e-01, 4.42057396e-01, 1.39341619e+00, 1.32820195e+00,\n",
       "        1.28304980e+00],\n",
       "       [7.01489346e-01, 8.59914463e-01, 4.22967582e-01, 8.12645637e-01,\n",
       "        5.99973494e-01],\n",
       "       [7.18810070e-01, 5.44813920e-01, 8.19465927e-01, 2.07354907e+00,\n",
       "        9.94831951e-01],\n",
       "       [7.36130795e-01, 8.57754241e-01, 6.70914095e-01, 3.38149702e-01,\n",
       "        1.16776266e+00],\n",
       "       [7.53451519e-01, 4.95595880e-01, 1.18598381e+00, 1.77038355e-01,\n",
       "        6.96046111e-01],\n",
       "       [7.70772244e-01, 5.93681653e-01, 5.71519414e-01, 3.84181516e-01,\n",
       "        5.03900877e-01],\n",
       "       [7.88092969e-01, 7.87313476e-02, 1.44257334e+00, 9.92169710e-01,\n",
       "        7.15260635e-01],\n",
       "       [8.05413693e-01, 1.08662104e+00, 1.07794612e+00, 1.00597925e+00,\n",
       "        1.58039455e-01],\n",
       "       [8.22734418e-01, 1.12281936e+00, 1.73778635e+00, 6.32753309e-01,\n",
       "        2.18613240e+00],\n",
       "       [8.40055142e-01, 1.27327593e+00, 1.15033137e+00, 8.58677450e-01,\n",
       "        5.99973494e-01],\n",
       "       [8.57375867e-01, 1.19504085e+00, 1.71239749e-01, 4.58200672e-01,\n",
       "        7.53689682e-01],\n",
       "       [8.74696592e-01, 1.56070228e+00, 6.32290618e-01, 2.96721070e-01,\n",
       "        3.99181724e-01],\n",
       "       [8.92017316e-01, 3.04095087e-01, 1.00367020e+00, 8.35293289e-01,\n",
       "        4.65471830e-01],\n",
       "       [9.09338041e-01, 5.90353742e-01, 2.43084817e-03, 7.52804279e-01,\n",
       "        4.95254341e-01],\n",
       "       [9.26658765e-01, 2.83251860e-01, 1.10981724e+00, 3.28943340e-01,\n",
       "        9.56402904e-01],\n",
       "       [9.43979490e-01, 4.75920341e-01, 1.46120984e-01, 9.69153803e-01,\n",
       "        3.03109107e-01],\n",
       "       [9.61300215e-01, 1.66912209e+00, 7.87594807e-01, 1.14407469e+00,\n",
       "        2.07949180e+00],\n",
       "       [9.78620939e-01, 6.20538471e-01, 1.36640677e+00, 9.18150553e-01,\n",
       "        2.45465537e-01],\n",
       "       [9.95941664e-01, 3.21989902e-02, 1.48308748e+00, 2.87882962e-01,\n",
       "        7.53689682e-01],\n",
       "       [1.01326239e+00, 1.58037782e+00, 9.20751268e-01, 6.74181942e-01,\n",
       "        1.29169634e+00],\n",
       "       [1.03058311e+00, 1.79152496e-01, 3.28434597e-01, 1.86244718e-01,\n",
       "        2.15683025e-01],\n",
       "       [1.04790384e+00, 2.97264113e-01, 3.48691665e-01, 6.72064478e-03,\n",
       "        7.25348259e-02],\n",
       "       [1.06522456e+00, 7.16288868e-01, 8.46475352e-01, 8.62912377e-01,\n",
       "        1.38824932e-01],\n",
       "       [1.08254529e+00, 4.82926468e-01, 3.48691665e-01, 2.28041604e-01,\n",
       "        1.68607443e-01],\n",
       "       [1.09986601e+00, 1.92172214e-01, 9.13998912e-01, 1.06582061e+00,\n",
       "        7.64257669e-01],\n",
       "       [1.11718674e+00, 3.48467222e-01, 5.78271770e-01, 1.15788424e+00,\n",
       "        4.07828260e-01],\n",
       "       [1.13450746e+00, 1.02123053e+00, 1.34128800e+00, 2.49704176e+00,\n",
       "        4.07828260e-01],\n",
       "       [1.15182818e+00, 1.50798117e+00, 9.68017760e-01, 4.12168859e-01,\n",
       "        1.15719467e+00],\n",
       "       [1.16914891e+00, 6.97781017e-01, 1.21974559e+00, 5.13438849e-01,\n",
       "        3.50184689e-01],\n",
       "       [1.18646963e+00, 7.98202165e-01, 2.26879163e-02, 1.24497643e+00,\n",
       "        5.91326959e-01],\n",
       "       [1.20379036e+00, 1.60273904e+00, 8.55118367e-01, 1.11185242e+00,\n",
       "        1.87821967e-01],\n",
       "       [1.22111108e+00, 1.13315340e+00, 7.87594807e-01, 5.59470662e-01,\n",
       "        1.08033658e+00],\n",
       "       [1.23843181e+00, 2.03849092e-01, 1.59625696e-01, 7.75451931e-01,\n",
       "        9.17493494e-02],\n",
       "       [1.25575253e+00, 1.48813048e+00, 2.13644545e-01, 6.23915201e-01,\n",
       "        1.23405277e+00],\n",
       "       [1.27307326e+00, 2.49388915e-01, 1.09145083e+00, 8.17248818e-01,\n",
       "        4.46257307e-01],\n",
       "       [1.29039398e+00, 8.79940308e-01, 1.34128800e+00, 8.03439274e-01,\n",
       "        4.84686354e-01],\n",
       "       [1.30771471e+00, 1.51633014e+00, 1.73103399e+00, 5.17673775e-01,\n",
       "        2.49356478e+00],\n",
       "       [1.32503543e+00, 1.18353913e+00, 4.68343414e-01, 4.72010216e-01,\n",
       "        1.18697718e+00],\n",
       "       [1.34235616e+00, 2.70407294e-01, 1.04418434e+00, 2.13863806e-01,\n",
       "        4.46257307e-01],\n",
       "       [1.35967688e+00, 1.51399477e+00, 1.41556392e+00, 3.15502050e-01,\n",
       "        4.27042783e-01],\n",
       "       [1.37699760e+00, 2.16693657e-01, 8.95632503e-01, 5.96296113e-01,\n",
       "        2.73326596e-01],\n",
       "       [1.39431833e+00, 1.11601758e-01, 1.39530685e+00, 1.02439198e+00,\n",
       "        6.76831588e-01],\n",
       "       [1.41163905e+00, 8.34400486e-01, 1.20624088e+00, 1.45184340e-01,\n",
       "        3.50184689e-01],\n",
       "       [1.42895978e+00, 1.06075676e+00, 1.18598381e+00, 3.93111688e-02,\n",
       "        1.02269301e+00],\n",
       "       [1.44628050e+00, 1.64127273e+00, 1.33264499e+00, 1.89862818e+00,\n",
       "        2.33984859e+00],\n",
       "       [1.46360123e+00, 1.24659427e+00, 1.32616272e-01, 2.55016247e-02,\n",
       "        6.87399576e-01],\n",
       "       [1.48092195e+00, 6.76762637e-01, 1.47444446e+00, 5.04232486e-01,\n",
       "        1.64812575e+00],\n",
       "       [1.49824268e+00, 8.80728498e-02, 1.42906863e+00, 1.82009791e-01,\n",
       "        7.15260635e-01],\n",
       "       [1.51556340e+00, 5.14454038e-01, 3.67058074e-01, 5.68677025e-01,\n",
       "        6.29756005e-01],\n",
       "       [1.53288413e+00, 1.62258973e+00, 6.32290618e-01, 1.23613832e+00,\n",
       "        3.60752677e-01],\n",
       "       [1.55020485e+00, 1.49863967e+00, 7.53833027e-01, 3.29311594e-01,\n",
       "        1.40698348e+00],\n",
       "       [1.56752558e+00, 1.25576062e+00, 1.20435022e+00, 1.13947151e+00,\n",
       "        6.19188018e-01],\n",
       "       [1.58484630e+00, 8.35393020e-01, 8.41613655e-01, 1.13026515e+00,\n",
       "        7.92118728e-01],\n",
       "       [1.60216702e+00, 1.51615499e+00, 1.29402151e+00, 4.81492770e-02,\n",
       "        1.56069967e+00],\n",
       "       [1.61948775e+00, 2.30705910e-01, 1.26512143e+00, 1.24074150e+00,\n",
       "        1.07169004e+00],\n",
       "       [1.63680847e+00, 3.10313024e-02, 8.32970639e-01, 1.13026515e+00,\n",
       "        6.29756005e-01],\n",
       "       [1.65412920e+00, 1.27094056e+00, 1.32103093e+00, 7.71217005e-01,\n",
       "        1.23405277e+00],\n",
       "       [1.67144992e+00, 6.17035408e-01, 1.24000266e+00, 1.03359834e+00,\n",
       "        8.30547775e-01],\n",
       "       [1.68877065e+00, 3.49810063e-01, 9.42898996e-01, 1.11185242e+00,\n",
       "        2.34897549e-01],\n",
       "       [1.70609137e+00, 1.59456522e+00, 1.26512143e+00, 1.64085003e+00,\n",
       "        2.20534693e+00],\n",
       "       [1.72341210e+00, 9.93206022e-01, 9.90165488e-01, 1.00597925e+00,\n",
       "        1.19610408e-01]])"
      ]
     },
     "execution_count": 29,
     "metadata": {},
     "output_type": "execute_result"
    }
   ],
   "source": [
    "from scipy.stats import zscore\n",
    "z  = np.abs(zscore(df))\n",
    "z"
   ]
  },
  {
   "cell_type": "code",
   "execution_count": 30,
   "metadata": {},
   "outputs": [
    {
     "name": "stdout",
     "output_type": "stream",
     "text": [
      "(array([ 16, 101], dtype=int64), array([3, 3], dtype=int64))\n"
     ]
    }
   ],
   "source": [
    "thresold = 3\n",
    "print(np.where(z>3))"
   ]
  },
  {
   "cell_type": "code",
   "execution_count": 31,
   "metadata": {},
   "outputs": [
    {
     "name": "stdout",
     "output_type": "stream",
     "text": [
      "(200, 5)\n",
      "(198, 5)\n"
     ]
    }
   ],
   "source": [
    "df_new = df[(z<3).all(axis = 1)]\n",
    "print(df.shape)\n",
    "print(df_new.shape)"
   ]
  },
  {
   "cell_type": "markdown",
   "metadata": {},
   "source": [
    "# Percentage of data loss"
   ]
  },
  {
   "cell_type": "code",
   "execution_count": 32,
   "metadata": {},
   "outputs": [
    {
     "name": "stdout",
     "output_type": "stream",
     "text": [
      "1.0\n"
     ]
    }
   ],
   "source": [
    "loss_percent =(200-198)/200*100\n",
    "print(loss_percent)"
   ]
  },
  {
   "cell_type": "code",
   "execution_count": 33,
   "metadata": {},
   "outputs": [
    {
     "data": {
      "text/html": [
       "<div>\n",
       "<style scoped>\n",
       "    .dataframe tbody tr th:only-of-type {\n",
       "        vertical-align: middle;\n",
       "    }\n",
       "\n",
       "    .dataframe tbody tr th {\n",
       "        vertical-align: top;\n",
       "    }\n",
       "\n",
       "    .dataframe thead th {\n",
       "        text-align: right;\n",
       "    }\n",
       "</style>\n",
       "<table border=\"1\" class=\"dataframe\">\n",
       "  <thead>\n",
       "    <tr style=\"text-align: right;\">\n",
       "      <th></th>\n",
       "      <th>TV</th>\n",
       "      <th>radio</th>\n",
       "      <th>newspaper</th>\n",
       "      <th>sales</th>\n",
       "    </tr>\n",
       "  </thead>\n",
       "  <tbody>\n",
       "    <tr>\n",
       "      <th>0</th>\n",
       "      <td>230.1</td>\n",
       "      <td>37.8</td>\n",
       "      <td>69.2</td>\n",
       "      <td>22.1</td>\n",
       "    </tr>\n",
       "    <tr>\n",
       "      <th>1</th>\n",
       "      <td>44.5</td>\n",
       "      <td>39.3</td>\n",
       "      <td>45.1</td>\n",
       "      <td>10.4</td>\n",
       "    </tr>\n",
       "    <tr>\n",
       "      <th>2</th>\n",
       "      <td>17.2</td>\n",
       "      <td>45.9</td>\n",
       "      <td>69.3</td>\n",
       "      <td>9.3</td>\n",
       "    </tr>\n",
       "    <tr>\n",
       "      <th>3</th>\n",
       "      <td>151.5</td>\n",
       "      <td>41.3</td>\n",
       "      <td>58.5</td>\n",
       "      <td>18.5</td>\n",
       "    </tr>\n",
       "    <tr>\n",
       "      <th>4</th>\n",
       "      <td>180.8</td>\n",
       "      <td>10.8</td>\n",
       "      <td>58.4</td>\n",
       "      <td>12.9</td>\n",
       "    </tr>\n",
       "    <tr>\n",
       "      <th>...</th>\n",
       "      <td>...</td>\n",
       "      <td>...</td>\n",
       "      <td>...</td>\n",
       "      <td>...</td>\n",
       "    </tr>\n",
       "    <tr>\n",
       "      <th>195</th>\n",
       "      <td>38.2</td>\n",
       "      <td>3.7</td>\n",
       "      <td>13.8</td>\n",
       "      <td>7.6</td>\n",
       "    </tr>\n",
       "    <tr>\n",
       "      <th>196</th>\n",
       "      <td>94.2</td>\n",
       "      <td>4.9</td>\n",
       "      <td>8.1</td>\n",
       "      <td>9.7</td>\n",
       "    </tr>\n",
       "    <tr>\n",
       "      <th>197</th>\n",
       "      <td>177.0</td>\n",
       "      <td>9.3</td>\n",
       "      <td>6.4</td>\n",
       "      <td>12.8</td>\n",
       "    </tr>\n",
       "    <tr>\n",
       "      <th>198</th>\n",
       "      <td>283.6</td>\n",
       "      <td>42.0</td>\n",
       "      <td>66.2</td>\n",
       "      <td>25.5</td>\n",
       "    </tr>\n",
       "    <tr>\n",
       "      <th>199</th>\n",
       "      <td>232.1</td>\n",
       "      <td>8.6</td>\n",
       "      <td>8.7</td>\n",
       "      <td>13.4</td>\n",
       "    </tr>\n",
       "  </tbody>\n",
       "</table>\n",
       "<p>198 rows × 4 columns</p>\n",
       "</div>"
      ],
      "text/plain": [
       "        TV  radio  newspaper  sales\n",
       "0    230.1   37.8       69.2   22.1\n",
       "1     44.5   39.3       45.1   10.4\n",
       "2     17.2   45.9       69.3    9.3\n",
       "3    151.5   41.3       58.5   18.5\n",
       "4    180.8   10.8       58.4   12.9\n",
       "..     ...    ...        ...    ...\n",
       "195   38.2    3.7       13.8    7.6\n",
       "196   94.2    4.9        8.1    9.7\n",
       "197  177.0    9.3        6.4   12.8\n",
       "198  283.6   42.0       66.2   25.5\n",
       "199  232.1    8.6        8.7   13.4\n",
       "\n",
       "[198 rows x 4 columns]"
      ]
     },
     "execution_count": 33,
     "metadata": {},
     "output_type": "execute_result"
    }
   ],
   "source": [
    "df1 = df_new.iloc[:,1:]\n",
    "df1"
   ]
  },
  {
   "cell_type": "code",
   "execution_count": 34,
   "metadata": {},
   "outputs": [],
   "source": [
    "x = df1.iloc[:,:-1]\n",
    "y = df1.iloc[:,-1]"
   ]
  },
  {
   "cell_type": "code",
   "execution_count": 35,
   "metadata": {},
   "outputs": [
    {
     "data": {
      "text/plain": [
       "(198, 3)"
      ]
     },
     "execution_count": 35,
     "metadata": {},
     "output_type": "execute_result"
    }
   ],
   "source": [
    "x.shape"
   ]
  },
  {
   "cell_type": "code",
   "execution_count": 36,
   "metadata": {},
   "outputs": [
    {
     "data": {
      "text/plain": [
       "(198,)"
      ]
     },
     "execution_count": 36,
     "metadata": {},
     "output_type": "execute_result"
    }
   ],
   "source": [
    "y.shape"
   ]
  },
  {
   "cell_type": "code",
   "execution_count": 37,
   "metadata": {},
   "outputs": [],
   "source": [
    "from sklearn.preprocessing import power_transform\n",
    "x = power_transform(x,method = \"yeo-johnson\")"
   ]
  },
  {
   "cell_type": "code",
   "execution_count": 38,
   "metadata": {},
   "outputs": [
    {
     "data": {
      "text/plain": [
       "array([[ 0.95598306,  0.9691098 ,  1.6041965 ],\n",
       "       [-1.19200349,  1.04623436,  0.83104401],\n",
       "       [-1.6461253 ,  1.37296802,  1.60705249],\n",
       "       [ 0.14293428,  1.1473316 ,  1.28376774],\n",
       "       [ 0.45645241, -0.73502642,  1.28062154],\n",
       "       [-1.8204008 ,  1.51543955,  1.76610727],\n",
       "       [-1.00349358,  0.70309642, -0.10205346],\n",
       "       [-0.20996049, -0.0876566 , -0.84968895],\n",
       "       [-1.82264543, -1.62948287, -2.09866461],\n",
       "       [ 0.652694  , -1.56152179, -0.22649933],\n",
       "       [-0.88482761, -1.19258569, -0.06553382],\n",
       "       [ 0.80322028,  0.19357553, -1.59608414],\n",
       "       [-1.52567125,  0.82725998,  1.50859232],\n",
       "       [-0.48090308, -1.01613619, -1.23269654],\n",
       "       [ 0.69642374,  0.70856268,  0.86367455],\n",
       "       [ 0.60769456,  1.45886692,  1.1026083 ],\n",
       "       [ 1.44702338,  1.06152278,  1.19771741],\n",
       "       [-0.84304109, -0.02834315, -0.39458775],\n",
       "       [ 0.09676151,  0.18741189, -0.346834  ],\n",
       "       [ 0.84017479,  0.41523303,  1.11921444],\n",
       "       [ 1.02746612, -1.2660875 , -0.10205346],\n",
       "       [-1.72466475, -0.3430802 ,  0.99069777],\n",
       "       [ 0.93826742, -0.27204438,  0.0356758 ],\n",
       "       [-0.93674187, -0.59023588, -0.39458775],\n",
       "       [ 1.27285397, -1.44792482, -0.32336998],\n",
       "       [ 0.04802388,  0.50756488, -0.7740548 ],\n",
       "       [ 1.05376032, -0.28612399, -0.13384051],\n",
       "       [ 1.13797152,  0.38008881, -0.13384051],\n",
       "       [-0.82432769, -0.33590351,  0.66980347],\n",
       "       [ 1.55379249,  0.45008922,  0.76092313],\n",
       "       [-0.29552539, -0.23711359,  0.58357284],\n",
       "       [-0.48458608, -1.71704857,  0.21669702],\n",
       "       [ 1.29846636, -0.06117169, -2.2758464 ],\n",
       "       [-0.50304519, -1.7324148 , -1.21299201],\n",
       "       [ 1.53345233, -1.3771472 , -1.10919482],\n",
       "       [ 1.31077419,  1.27109462, -1.4708598 ],\n",
       "       [-0.77006157,  1.53885314,  0.85283827],\n",
       "       [-1.21308859,  0.35649509,  0.44045973],\n",
       "       [ 0.93531131,  0.96392681,  0.30682057],\n",
       "       [ 0.68018031,  0.08742886,  0.28905461],\n",
       "       [ 0.4165774 ,  0.73579933,  0.58755182],\n",
       "       [ 1.56025605,  0.41523303, -1.93614969],\n",
       "       [ 0.72477076, -0.94246393,  0.04555612],\n",
       "       [-1.50299171,  0.29691633,  0.76465678],\n",
       "       [ 0.39655706,  0.10007132,  0.2845934 ],\n",
       "       [-0.5776425 , -0.81067203,  0.46554742],\n",
       "       [ 1.05181524,  1.15733673, -0.38254334],\n",
       "       [ 0.92742341, -0.35027362,  1.00104316],\n",
       "       [-0.87399682, -0.66162053,  0.51093113],\n",
       "       [ 0.652694  , -1.49718987,  0.41936802],\n",
       "       [-0.44544938, -0.83642883, -1.65023317],\n",
       "       [ 0.82021967,  1.16732335,  0.62310406],\n",
       "       [ 0.47526481,  1.38737344,  1.29005095],\n",
       "       [ 1.27095405,  0.47892195, -0.54515187],\n",
       "       [ 0.6435106 ,  1.53885314,  1.33059751],\n",
       "       [-1.85241088,  0.43850198,  0.6928619 ],\n",
       "       [-0.02694246, -0.11434473, -0.50002298],\n",
       "       [ 0.7640894 ,  1.54819296,  0.54749686],\n",
       "       [ 0.76308359,  0.51896989, -1.03801781],\n",
       "       [-1.06021399, -1.64357954, -0.21538949],\n",
       "       [ 1.25764412,  1.21698291,  1.16198054],\n",
       "       [ 1.04597746, -0.37195568,  0.08950799],\n",
       "       [-0.41751811,  0.52466135, -1.11833294],\n",
       "       [-0.08464536,  1.22192414,  0.16568658],\n",
       "       [-0.84572231, -0.8624742 , -2.12148202],\n",
       "       [-1.39528628,  0.23035564, -1.86501   ],\n",
       "       [ 0.00785902, -0.44537697, -0.96167639],\n",
       "       [ 1.02746612,  0.40355071, -0.89675177],\n",
       "       [ 0.8242145 ,  1.27598779,  0.08466485],\n",
       "       [ 0.64555228,  0.58117899,  0.58755182],\n",
       "       [-0.33228945, -0.46028254,  0.29350789],\n",
       "       [-1.47377148,  0.71402259, -0.33506848],\n",
       "       [-0.10400761, -1.202897  ,  0.27564704],\n",
       "       [ 0.79019725,  0.23035564, -0.73744518],\n",
       "       [-1.65184774,  1.26619715,  2.13937255],\n",
       "       [-1.46187563, -1.70192244, -0.25453031],\n",
       "       [-0.20647326,  0.46164538, -0.65947105],\n",
       "       [-1.89822804,  0.54169198, -1.02934918],\n",
       "       [-0.25902053, -1.00678392, -0.12319395],\n",
       "       [-0.74778651,  0.35649509, -0.16609367],\n",
       "       [ 1.05084254, -1.3771472 ,  0.51501874],\n",
       "       [-0.76218508, -0.04143812,  0.32885333],\n",
       "       [-0.85377796,  1.30525722,  0.46138274],\n",
       "       [ 0.79119975,  1.23179329,  0.38526098],\n",
       "       [ 0.58509675, -0.16835339,  1.50271112],\n",
       "       [-0.74909326,  0.40355071, -0.53863938],\n",
       "       [-0.32158879,  1.11216604,  1.42831665],\n",
       "       [-0.59523084,  0.28489586,  1.72217946],\n",
       "       [-0.33228945,  1.4636021 ,  1.05224719],\n",
       "       [-0.04837336, -1.28768913, -1.03801781],\n",
       "       [-1.44333425, -1.71704857,  0.35069626],\n",
       "       [ 0.8331959 ,  0.74122791,  1.29945293],\n",
       "       [ 1.15818339,  0.90131402,  1.69166052],\n",
       "       [-0.36093577, -0.4827855 , -0.90472726],\n",
       "       [ 0.2709304 ,  0.63699688,  1.1026083 ],\n",
       "       [ 0.63022667, -1.44792482, -1.36815587],\n",
       "       [ 0.49923329,  0.00418624, -0.18240095],\n",
       "       [ 1.52419364,  1.19717332,  1.04546953],\n",
       "       [-0.0382122 ,  1.16732335,  0.86006693],\n",
       "       [ 0.87994389, -1.35429375,  0.99759864],\n",
       "       [ 1.43581778, -0.79365568, -0.21538949],\n",
       "       [ 0.53038105, -0.25104051, -0.41889554],\n",
       "       [ 1.03526502,  0.78443582, -1.43568966],\n",
       "       [-0.00783277,  1.39695704,  1.29945293],\n",
       "       [-1.50472569, -0.71852874,  0.20289058],\n",
       "       [-0.56887482, -1.92277996, -0.11788987],\n",
       "       [-1.72669682, -1.90334954,  0.00577961],\n",
       "       [ 1.20134779,  0.36830859, -1.41277956],\n",
       "       [ 0.91360226, -0.96064272,  1.22025052],\n",
       "       [ 1.06930594,  0.97946003, -0.11788987],\n",
       "       [ 0.40288531, -0.37921745, -1.83137048],\n",
       "       [ 0.75201155, -0.02181365, -0.9207956 ],\n",
       "       [-0.72433929,  1.41607663,  0.41512911],\n",
       "       [-0.76480878,  0.82192754,  1.09594084],\n",
       "       [ 0.00673953, -0.46028254,  0.00577961],\n",
       "       [-0.74778651, -1.83055994, -0.61831443],\n",
       "       [-0.14637764,  0.92227141,  1.87892616],\n",
       "       [-1.60487761, -0.33590351, -0.16609367],\n",
       "       [ 0.03020546,  0.36240602,  0.87087647],\n",
       "       [-1.61600701,  0.04924266,  1.01820721],\n",
       "       [ 0.89579959, -1.58822992, -0.56482448],\n",
       "       [-0.17634363,  0.8005392 , -0.78891695],\n",
       "       [ 0.95008184,  0.67566908,  1.7442111 ],\n",
       "       [-0.60910057, -0.65359273,  0.02077604],\n",
       "       [-1.84082856,  1.02577993,  1.02504572],\n",
       "       [-0.69844865, -1.98495808, -1.04673537],\n",
       "       [ 0.8590884 ,  1.52012963, -1.70718676],\n",
       "       [-0.97412104, -0.63761079,  0.75718457],\n",
       "       [-2.03323356,  1.06152278, -1.09108448],\n",
       "       [ 1.2946762 , -1.52253007,  0.7534411 ],\n",
       "       [-1.82715302,  0.38596655, -1.88228781],\n",
       "       [ 0.85411524,  0.74122791,  0.83104401],\n",
       "       [-1.30867028,  1.0103861 ,  1.49976669],\n",
       "       [-1.13560137,  1.42561279, -1.10919482],\n",
       "       [-1.49434751,  1.03090107, -1.03801781],\n",
       "       [ 1.37490294,  0.48466558,  1.32128542],\n",
       "       [-1.21460127,  0.30890141, -0.2658475 ],\n",
       "       [ 0.49923329,  1.27598779, -1.95484304],\n",
       "       [-0.78718324, -0.2650278 , -0.75199725],\n",
       "       [ 0.59023843,  0.84322253,  1.78244184],\n",
       "       [ 0.86107685,  0.72492349,  0.55555544],\n",
       "       [-0.39456576, -1.202897  ,  0.41088327],\n",
       "       [-0.49688394, -0.42315979,  0.59549238],\n",
       "       [ 0.01904252, -1.65786243, -1.06432036],\n",
       "       [ 1.05376032, -1.04445327, -1.09108448],\n",
       "       [ 1.08385578,  1.52012963,  0.80172759],\n",
       "       [-1.29143203,  1.09702388, -0.82664429],\n",
       "       [-1.1890052 ,  0.30291327, -0.26018131],\n",
       "       [ 1.44048829, -0.49032576,  0.51910011],\n",
       "       [-0.20066619, -0.94246393,  0.95944652],\n",
       "       [ 0.63022667,  0.15022331, -0.65947105],\n",
       "       [ 0.35634693,  1.06660903,  0.54749686],\n",
       "       [ 0.52934487,  0.01065705, -1.02072873],\n",
       "       [-1.93163495, -0.66967326, -1.39027462],\n",
       "       [-0.52529469,  1.25638925,  1.02162839],\n",
       "       [ 0.12428563, -1.74803521, -0.06036496],\n",
       "       [-1.75555556,  0.92227141,  0.83468776],\n",
       "       [-0.07782712, -0.16835339,  0.41936802],\n",
       "       [ 0.36906953, -0.18883181,  0.24861364],\n",
       "       [-0.62808655,  0.86442562,  0.98031676],\n",
       "       [ 0.5355598 , -0.18883181,  0.00577961],\n",
       "       [ 0.2730788 ,  0.91704026, -1.21299201],\n",
       "       [-0.24495734, -0.43054692, -1.42418272],\n",
       "       [ 0.99913782, -1.46007371,  2.02414625],\n",
       "       [-1.63286723,  0.95873855, -0.20433701],\n",
       "       [ 0.72376009, -1.25539136, -0.32921092],\n",
       "       [ 0.81022423,  0.16886223,  1.25534066],\n",
       "       [ 1.47405264, -0.75163452, -1.31443661],\n",
       "       [-1.11073781, -0.66967326, -0.38855655],\n",
       "       [ 0.28381064, -0.00229617,  0.91372099],\n",
       "       [-1.60118681, -0.05458158, -0.47470116],\n",
       "       [ 0.32550506, -1.06355551, -0.75931882],\n",
       "       [ 0.87994389, -1.46007371, -0.73744518],\n",
       "       [ 1.40493806,  1.51543955,  0.70812926],\n",
       "       [ 1.13411664,  0.55865764, -0.27722588],\n",
       "       [ 0.34466429, -0.99747386,  0.44465771],\n",
       "       [ 1.40306351, -1.60181548, -0.09155822],\n",
       "       [ 0.29559622, -0.80214864, -0.43732278],\n",
       "       [ 0.19855946, -1.56152179, -1.12752759],\n",
       "       [ 0.8411713 , -1.23420066,  0.09434122],\n",
       "       [-1.02181379, -1.202897  ,  0.20289058],\n",
       "       [ 1.50472337,  1.23179329,  1.67770049],\n",
       "       [ 1.18602318,  0.02356422,  0.21669702],\n",
       "       [ 0.70554619,  1.33437513, -0.31754553],\n",
       "       [ 0.01009737, -1.62948287,  0.05539471],\n",
       "       [ 0.56346396,  0.47317073, -0.40063711],\n",
       "       [ 1.48986416, -0.49032576, -1.63644784],\n",
       "       [-1.61787038, -0.62965614, -0.1073197 ],\n",
       "       [-1.26812741,  1.13730782, -1.3791681 ],\n",
       "       [-0.75956316, -0.73502642, -1.3572358 ],\n",
       "       [-1.6461253 , -1.3771472 ,  0.28905461],\n",
       "       [ 0.30843016,  1.18226883, -1.65023317],\n",
       "       [ 0.12318696,  0.85383548, -1.3572358 ],\n",
       "       [-1.28831146, -1.42394128, -0.68743455],\n",
       "       [-0.52157887, -1.28768913, -1.14609038],\n",
       "       [ 0.4165774 , -0.8624742 , -1.31443661],\n",
       "       [ 1.4675349 ,  1.18226883,  1.51739504],\n",
       "       [ 0.97562509, -0.92443675, -1.09108448]])"
      ]
     },
     "execution_count": 38,
     "metadata": {},
     "output_type": "execute_result"
    }
   ],
   "source": [
    "x"
   ]
  },
  {
   "cell_type": "code",
   "execution_count": 39,
   "metadata": {},
   "outputs": [
    {
     "data": {
      "text/plain": [
       "array([[ 0.95598306,  0.9691098 ,  1.6041965 ],\n",
       "       [-1.19200349,  1.04623436,  0.83104401],\n",
       "       [-1.6461253 ,  1.37296802,  1.60705249],\n",
       "       [ 0.14293428,  1.1473316 ,  1.28376774],\n",
       "       [ 0.45645241, -0.73502642,  1.28062154],\n",
       "       [-1.8204008 ,  1.51543955,  1.76610727],\n",
       "       [-1.00349358,  0.70309642, -0.10205346],\n",
       "       [-0.20996049, -0.0876566 , -0.84968895],\n",
       "       [-1.82264543, -1.62948287, -2.09866461],\n",
       "       [ 0.652694  , -1.56152179, -0.22649933],\n",
       "       [-0.88482761, -1.19258569, -0.06553382],\n",
       "       [ 0.80322028,  0.19357553, -1.59608414],\n",
       "       [-1.52567125,  0.82725998,  1.50859232],\n",
       "       [-0.48090308, -1.01613619, -1.23269654],\n",
       "       [ 0.69642374,  0.70856268,  0.86367455],\n",
       "       [ 0.60769456,  1.45886692,  1.1026083 ],\n",
       "       [ 1.44702338,  1.06152278,  1.19771741],\n",
       "       [-0.84304109, -0.02834315, -0.39458775],\n",
       "       [ 0.09676151,  0.18741189, -0.346834  ],\n",
       "       [ 0.84017479,  0.41523303,  1.11921444],\n",
       "       [ 1.02746612, -1.2660875 , -0.10205346],\n",
       "       [-1.72466475, -0.3430802 ,  0.99069777],\n",
       "       [ 0.93826742, -0.27204438,  0.0356758 ],\n",
       "       [-0.93674187, -0.59023588, -0.39458775],\n",
       "       [ 1.27285397, -1.44792482, -0.32336998],\n",
       "       [ 0.04802388,  0.50756488, -0.7740548 ],\n",
       "       [ 1.05376032, -0.28612399, -0.13384051],\n",
       "       [ 1.13797152,  0.38008881, -0.13384051],\n",
       "       [-0.82432769, -0.33590351,  0.66980347],\n",
       "       [ 1.55379249,  0.45008922,  0.76092313],\n",
       "       [-0.29552539, -0.23711359,  0.58357284],\n",
       "       [-0.48458608, -1.71704857,  0.21669702],\n",
       "       [ 1.29846636, -0.06117169, -2.2758464 ],\n",
       "       [-0.50304519, -1.7324148 , -1.21299201],\n",
       "       [ 1.53345233, -1.3771472 , -1.10919482],\n",
       "       [ 1.31077419,  1.27109462, -1.4708598 ],\n",
       "       [-0.77006157,  1.53885314,  0.85283827],\n",
       "       [-1.21308859,  0.35649509,  0.44045973],\n",
       "       [ 0.93531131,  0.96392681,  0.30682057],\n",
       "       [ 0.68018031,  0.08742886,  0.28905461],\n",
       "       [ 0.4165774 ,  0.73579933,  0.58755182],\n",
       "       [ 1.56025605,  0.41523303, -1.93614969],\n",
       "       [ 0.72477076, -0.94246393,  0.04555612],\n",
       "       [-1.50299171,  0.29691633,  0.76465678],\n",
       "       [ 0.39655706,  0.10007132,  0.2845934 ],\n",
       "       [-0.5776425 , -0.81067203,  0.46554742],\n",
       "       [ 1.05181524,  1.15733673, -0.38254334],\n",
       "       [ 0.92742341, -0.35027362,  1.00104316],\n",
       "       [-0.87399682, -0.66162053,  0.51093113],\n",
       "       [ 0.652694  , -1.49718987,  0.41936802],\n",
       "       [-0.44544938, -0.83642883, -1.65023317],\n",
       "       [ 0.82021967,  1.16732335,  0.62310406],\n",
       "       [ 0.47526481,  1.38737344,  1.29005095],\n",
       "       [ 1.27095405,  0.47892195, -0.54515187],\n",
       "       [ 0.6435106 ,  1.53885314,  1.33059751],\n",
       "       [-1.85241088,  0.43850198,  0.6928619 ],\n",
       "       [-0.02694246, -0.11434473, -0.50002298],\n",
       "       [ 0.7640894 ,  1.54819296,  0.54749686],\n",
       "       [ 0.76308359,  0.51896989, -1.03801781],\n",
       "       [-1.06021399, -1.64357954, -0.21538949],\n",
       "       [ 1.25764412,  1.21698291,  1.16198054],\n",
       "       [ 1.04597746, -0.37195568,  0.08950799],\n",
       "       [-0.41751811,  0.52466135, -1.11833294],\n",
       "       [-0.08464536,  1.22192414,  0.16568658],\n",
       "       [-0.84572231, -0.8624742 , -2.12148202],\n",
       "       [-1.39528628,  0.23035564, -1.86501   ],\n",
       "       [ 0.00785902, -0.44537697, -0.96167639],\n",
       "       [ 1.02746612,  0.40355071, -0.89675177],\n",
       "       [ 0.8242145 ,  1.27598779,  0.08466485],\n",
       "       [ 0.64555228,  0.58117899,  0.58755182],\n",
       "       [-0.33228945, -0.46028254,  0.29350789],\n",
       "       [-1.47377148,  0.71402259, -0.33506848],\n",
       "       [-0.10400761, -1.202897  ,  0.27564704],\n",
       "       [ 0.79019725,  0.23035564, -0.73744518],\n",
       "       [-1.65184774,  1.26619715,  2.13937255],\n",
       "       [-1.46187563, -1.70192244, -0.25453031],\n",
       "       [-0.20647326,  0.46164538, -0.65947105],\n",
       "       [-1.89822804,  0.54169198, -1.02934918],\n",
       "       [-0.25902053, -1.00678392, -0.12319395],\n",
       "       [-0.74778651,  0.35649509, -0.16609367],\n",
       "       [ 1.05084254, -1.3771472 ,  0.51501874],\n",
       "       [-0.76218508, -0.04143812,  0.32885333],\n",
       "       [-0.85377796,  1.30525722,  0.46138274],\n",
       "       [ 0.79119975,  1.23179329,  0.38526098],\n",
       "       [ 0.58509675, -0.16835339,  1.50271112],\n",
       "       [-0.74909326,  0.40355071, -0.53863938],\n",
       "       [-0.32158879,  1.11216604,  1.42831665],\n",
       "       [-0.59523084,  0.28489586,  1.72217946],\n",
       "       [-0.33228945,  1.4636021 ,  1.05224719],\n",
       "       [-0.04837336, -1.28768913, -1.03801781],\n",
       "       [-1.44333425, -1.71704857,  0.35069626],\n",
       "       [ 0.8331959 ,  0.74122791,  1.29945293],\n",
       "       [ 1.15818339,  0.90131402,  1.69166052],\n",
       "       [-0.36093577, -0.4827855 , -0.90472726],\n",
       "       [ 0.2709304 ,  0.63699688,  1.1026083 ],\n",
       "       [ 0.63022667, -1.44792482, -1.36815587],\n",
       "       [ 0.49923329,  0.00418624, -0.18240095],\n",
       "       [ 1.52419364,  1.19717332,  1.04546953],\n",
       "       [-0.0382122 ,  1.16732335,  0.86006693],\n",
       "       [ 0.87994389, -1.35429375,  0.99759864],\n",
       "       [ 1.43581778, -0.79365568, -0.21538949],\n",
       "       [ 0.53038105, -0.25104051, -0.41889554],\n",
       "       [ 1.03526502,  0.78443582, -1.43568966],\n",
       "       [-0.00783277,  1.39695704,  1.29945293],\n",
       "       [-1.50472569, -0.71852874,  0.20289058],\n",
       "       [-0.56887482, -1.92277996, -0.11788987],\n",
       "       [-1.72669682, -1.90334954,  0.00577961],\n",
       "       [ 1.20134779,  0.36830859, -1.41277956],\n",
       "       [ 0.91360226, -0.96064272,  1.22025052],\n",
       "       [ 1.06930594,  0.97946003, -0.11788987],\n",
       "       [ 0.40288531, -0.37921745, -1.83137048],\n",
       "       [ 0.75201155, -0.02181365, -0.9207956 ],\n",
       "       [-0.72433929,  1.41607663,  0.41512911],\n",
       "       [-0.76480878,  0.82192754,  1.09594084],\n",
       "       [ 0.00673953, -0.46028254,  0.00577961],\n",
       "       [-0.74778651, -1.83055994, -0.61831443],\n",
       "       [-0.14637764,  0.92227141,  1.87892616],\n",
       "       [-1.60487761, -0.33590351, -0.16609367],\n",
       "       [ 0.03020546,  0.36240602,  0.87087647],\n",
       "       [-1.61600701,  0.04924266,  1.01820721],\n",
       "       [ 0.89579959, -1.58822992, -0.56482448],\n",
       "       [-0.17634363,  0.8005392 , -0.78891695],\n",
       "       [ 0.95008184,  0.67566908,  1.7442111 ],\n",
       "       [-0.60910057, -0.65359273,  0.02077604],\n",
       "       [-1.84082856,  1.02577993,  1.02504572],\n",
       "       [-0.69844865, -1.98495808, -1.04673537],\n",
       "       [ 0.8590884 ,  1.52012963, -1.70718676],\n",
       "       [-0.97412104, -0.63761079,  0.75718457],\n",
       "       [-2.03323356,  1.06152278, -1.09108448],\n",
       "       [ 1.2946762 , -1.52253007,  0.7534411 ],\n",
       "       [-1.82715302,  0.38596655, -1.88228781],\n",
       "       [ 0.85411524,  0.74122791,  0.83104401],\n",
       "       [-1.30867028,  1.0103861 ,  1.49976669],\n",
       "       [-1.13560137,  1.42561279, -1.10919482],\n",
       "       [-1.49434751,  1.03090107, -1.03801781],\n",
       "       [ 1.37490294,  0.48466558,  1.32128542],\n",
       "       [-1.21460127,  0.30890141, -0.2658475 ],\n",
       "       [ 0.49923329,  1.27598779, -1.95484304],\n",
       "       [-0.78718324, -0.2650278 , -0.75199725],\n",
       "       [ 0.59023843,  0.84322253,  1.78244184],\n",
       "       [ 0.86107685,  0.72492349,  0.55555544],\n",
       "       [-0.39456576, -1.202897  ,  0.41088327],\n",
       "       [-0.49688394, -0.42315979,  0.59549238],\n",
       "       [ 0.01904252, -1.65786243, -1.06432036],\n",
       "       [ 1.05376032, -1.04445327, -1.09108448],\n",
       "       [ 1.08385578,  1.52012963,  0.80172759],\n",
       "       [-1.29143203,  1.09702388, -0.82664429],\n",
       "       [-1.1890052 ,  0.30291327, -0.26018131],\n",
       "       [ 1.44048829, -0.49032576,  0.51910011],\n",
       "       [-0.20066619, -0.94246393,  0.95944652],\n",
       "       [ 0.63022667,  0.15022331, -0.65947105],\n",
       "       [ 0.35634693,  1.06660903,  0.54749686],\n",
       "       [ 0.52934487,  0.01065705, -1.02072873],\n",
       "       [-1.93163495, -0.66967326, -1.39027462],\n",
       "       [-0.52529469,  1.25638925,  1.02162839],\n",
       "       [ 0.12428563, -1.74803521, -0.06036496],\n",
       "       [-1.75555556,  0.92227141,  0.83468776],\n",
       "       [-0.07782712, -0.16835339,  0.41936802],\n",
       "       [ 0.36906953, -0.18883181,  0.24861364],\n",
       "       [-0.62808655,  0.86442562,  0.98031676],\n",
       "       [ 0.5355598 , -0.18883181,  0.00577961],\n",
       "       [ 0.2730788 ,  0.91704026, -1.21299201],\n",
       "       [-0.24495734, -0.43054692, -1.42418272],\n",
       "       [ 0.99913782, -1.46007371,  2.02414625],\n",
       "       [-1.63286723,  0.95873855, -0.20433701],\n",
       "       [ 0.72376009, -1.25539136, -0.32921092],\n",
       "       [ 0.81022423,  0.16886223,  1.25534066],\n",
       "       [ 1.47405264, -0.75163452, -1.31443661],\n",
       "       [-1.11073781, -0.66967326, -0.38855655],\n",
       "       [ 0.28381064, -0.00229617,  0.91372099],\n",
       "       [-1.60118681, -0.05458158, -0.47470116],\n",
       "       [ 0.32550506, -1.06355551, -0.75931882],\n",
       "       [ 0.87994389, -1.46007371, -0.73744518],\n",
       "       [ 1.40493806,  1.51543955,  0.70812926],\n",
       "       [ 1.13411664,  0.55865764, -0.27722588],\n",
       "       [ 0.34466429, -0.99747386,  0.44465771],\n",
       "       [ 1.40306351, -1.60181548, -0.09155822],\n",
       "       [ 0.29559622, -0.80214864, -0.43732278],\n",
       "       [ 0.19855946, -1.56152179, -1.12752759],\n",
       "       [ 0.8411713 , -1.23420066,  0.09434122],\n",
       "       [-1.02181379, -1.202897  ,  0.20289058],\n",
       "       [ 1.50472337,  1.23179329,  1.67770049],\n",
       "       [ 1.18602318,  0.02356422,  0.21669702],\n",
       "       [ 0.70554619,  1.33437513, -0.31754553],\n",
       "       [ 0.01009737, -1.62948287,  0.05539471],\n",
       "       [ 0.56346396,  0.47317073, -0.40063711],\n",
       "       [ 1.48986416, -0.49032576, -1.63644784],\n",
       "       [-1.61787038, -0.62965614, -0.1073197 ],\n",
       "       [-1.26812741,  1.13730782, -1.3791681 ],\n",
       "       [-0.75956316, -0.73502642, -1.3572358 ],\n",
       "       [-1.6461253 , -1.3771472 ,  0.28905461],\n",
       "       [ 0.30843016,  1.18226883, -1.65023317],\n",
       "       [ 0.12318696,  0.85383548, -1.3572358 ],\n",
       "       [-1.28831146, -1.42394128, -0.68743455],\n",
       "       [-0.52157887, -1.28768913, -1.14609038],\n",
       "       [ 0.4165774 , -0.8624742 , -1.31443661],\n",
       "       [ 1.4675349 ,  1.18226883,  1.51739504],\n",
       "       [ 0.97562509, -0.92443675, -1.09108448]])"
      ]
     },
     "execution_count": 39,
     "metadata": {},
     "output_type": "execute_result"
    }
   ],
   "source": [
    "from sklearn.preprocessing import StandardScaler\n",
    "sc = StandardScaler()\n",
    "x = sc.fit_transform(x)\n",
    "x"
   ]
  },
  {
   "cell_type": "code",
   "execution_count": 40,
   "metadata": {},
   "outputs": [],
   "source": [
    "x_train,x_test,y_train,y_test = train_test_split(x,y,test_size = .33,random_state =55)"
   ]
  },
  {
   "cell_type": "code",
   "execution_count": 41,
   "metadata": {},
   "outputs": [
    {
     "data": {
      "text/plain": [
       "(132, 3)"
      ]
     },
     "execution_count": 41,
     "metadata": {},
     "output_type": "execute_result"
    }
   ],
   "source": [
    "x_train.shape"
   ]
  },
  {
   "cell_type": "code",
   "execution_count": 42,
   "metadata": {},
   "outputs": [
    {
     "data": {
      "text/plain": [
       "(132,)"
      ]
     },
     "execution_count": 42,
     "metadata": {},
     "output_type": "execute_result"
    }
   ],
   "source": [
    "y_train.shape"
   ]
  },
  {
   "cell_type": "code",
   "execution_count": 43,
   "metadata": {},
   "outputs": [
    {
     "data": {
      "text/plain": [
       "(66, 3)"
      ]
     },
     "execution_count": 43,
     "metadata": {},
     "output_type": "execute_result"
    }
   ],
   "source": [
    "x_test.shape"
   ]
  },
  {
   "cell_type": "code",
   "execution_count": 44,
   "metadata": {},
   "outputs": [
    {
     "data": {
      "text/plain": [
       "(66,)"
      ]
     },
     "execution_count": 44,
     "metadata": {},
     "output_type": "execute_result"
    }
   ],
   "source": [
    "y_test.shape"
   ]
  },
  {
   "cell_type": "code",
   "execution_count": 45,
   "metadata": {},
   "outputs": [
    {
     "data": {
      "text/plain": [
       "array([ 4.00260141,  2.71769783, -0.01104005])"
      ]
     },
     "execution_count": 45,
     "metadata": {},
     "output_type": "execute_result"
    }
   ],
   "source": [
    "lr = LinearRegression()\n",
    "lr.fit(x_train,y_train)\n",
    "lr.coef_"
   ]
  },
  {
   "cell_type": "code",
   "execution_count": 46,
   "metadata": {},
   "outputs": [
    {
     "data": {
      "text/plain": [
       "13.986864039315513"
      ]
     },
     "execution_count": 46,
     "metadata": {},
     "output_type": "execute_result"
    }
   ],
   "source": [
    "lr.intercept_"
   ]
  },
  {
   "cell_type": "code",
   "execution_count": 47,
   "metadata": {},
   "outputs": [
    {
     "data": {
      "text/plain": [
       "0.8991131225524167"
      ]
     },
     "execution_count": 47,
     "metadata": {},
     "output_type": "execute_result"
    }
   ],
   "source": [
    "lr.score(x_train,y_train)"
   ]
  },
  {
   "cell_type": "code",
   "execution_count": 48,
   "metadata": {},
   "outputs": [
    {
     "data": {
      "text/plain": [
       "array([11.96445233, 15.88668424, 20.79264   , 15.02284213,  9.39520437,\n",
       "       12.01714059, 15.37818382, 17.00264625, 18.63570565, 20.38157015,\n",
       "       23.33879198, 13.99851149,  9.77238034,  7.72534346, 18.41427635,\n",
       "        4.45067841,  7.64121769, 21.24668558, 13.32813477, 17.42852563,\n",
       "       15.43214036, 20.37180974, 22.44750856, 12.09121781, 10.84144097,\n",
       "        9.96773494, 12.76286702, 19.47442672, 19.5761546 ,  3.51305767,\n",
       "       12.99484833, 13.21318963,  8.28125176, 11.47814514, 13.32482452,\n",
       "       10.05896494, 23.05711861, 16.39423813, 20.75268069, 13.14729077,\n",
       "       20.27832689, 10.55032201,  6.02569017, 17.5793319 , 17.74553534,\n",
       "       18.62129901, 15.99848655, 17.67492619,  9.76712994,  5.2788754 ,\n",
       "       12.35809417, 19.20603045, 10.05384932,  2.28626822, 22.65039716,\n",
       "       10.81872399,  9.13392783, 15.85464946, 19.41080562, 12.65067621,\n",
       "        3.65221948, 16.96705379, 10.11179784, 21.05343362, 21.346376  ,\n",
       "       14.42232709])"
      ]
     },
     "execution_count": 48,
     "metadata": {},
     "output_type": "execute_result"
    }
   ],
   "source": [
    "pred = lr.predict(x_test)\n",
    "pred"
   ]
  },
  {
   "cell_type": "code",
   "execution_count": 49,
   "metadata": {},
   "outputs": [
    {
     "name": "stdout",
     "output_type": "stream",
     "text": [
      "Print the predicted values [11.96445233 15.88668424 20.79264    15.02284213  9.39520437 12.01714059\n",
      " 15.37818382 17.00264625 18.63570565 20.38157015 23.33879198 13.99851149\n",
      "  9.77238034  7.72534346 18.41427635  4.45067841  7.64121769 21.24668558\n",
      " 13.32813477 17.42852563 15.43214036 20.37180974 22.44750856 12.09121781\n",
      " 10.84144097  9.96773494 12.76286702 19.47442672 19.5761546   3.51305767\n",
      " 12.99484833 13.21318963  8.28125176 11.47814514 13.32482452 10.05896494\n",
      " 23.05711861 16.39423813 20.75268069 13.14729077 20.27832689 10.55032201\n",
      "  6.02569017 17.5793319  17.74553534 18.62129901 15.99848655 17.67492619\n",
      "  9.76712994  5.2788754  12.35809417 19.20603045 10.05384932  2.28626822\n",
      " 22.65039716 10.81872399  9.13392783 15.85464946 19.41080562 12.65067621\n",
      "  3.65221948 16.96705379 10.11179784 21.05343362 21.346376   14.42232709]\n"
     ]
    }
   ],
   "source": [
    "print(\"Print the predicted values\",pred)"
   ]
  },
  {
   "cell_type": "code",
   "execution_count": 50,
   "metadata": {},
   "outputs": [
    {
     "name": "stdout",
     "output_type": "stream",
     "text": [
      "Mean absolute error: 1.293092943875033\n",
      "Mean squared error : 2.6399339106374247\n",
      "Root mean sqaure: 1.6247873432044653\n"
     ]
    }
   ],
   "source": [
    "print(\"Mean absolute error:\", mean_absolute_error(y_test,pred))\n",
    "print(\"Mean squared error :\",mean_squared_error(y_test,pred))\n",
    "print(\"Root mean sqaure:\",np.sqrt(mean_squared_error(y_test,pred)))"
   ]
  },
  {
   "cell_type": "code",
   "execution_count": 51,
   "metadata": {},
   "outputs": [
    {
     "name": "stdout",
     "output_type": "stream",
     "text": [
      "R2 score: 0.9133244952425986\n"
     ]
    }
   ],
   "source": [
    "print(\"R2 score:\",r2_score(y_test,pred))"
   ]
  },
  {
   "cell_type": "code",
   "execution_count": 52,
   "metadata": {},
   "outputs": [
    {
     "name": "stdout",
     "output_type": "stream",
     "text": [
      "[0.91408144 0.8893314 ]\n",
      "0.9017064197605746\n",
      "0.01237501871647112\n"
     ]
    }
   ],
   "source": [
    "from sklearn.model_selection import cross_val_score\n",
    "\n",
    "\n",
    "score  = cross_val_score(lr,x,y,cv = 2)\n",
    "print(score)\n",
    "print(score.mean())\n",
    "print(score.std())"
   ]
  },
  {
   "cell_type": "code",
   "execution_count": 53,
   "metadata": {},
   "outputs": [
    {
     "data": {
      "text/plain": [
       "LinearRegression()"
      ]
     },
     "execution_count": 53,
     "metadata": {},
     "output_type": "execute_result"
    }
   ],
   "source": [
    "lr.fit(x_train,y_train)"
   ]
  },
  {
   "cell_type": "code",
   "execution_count": 54,
   "metadata": {},
   "outputs": [
    {
     "name": "stdout",
     "output_type": "stream",
     "text": [
      "predicted result score: [15.25052837 12.58949258 17.78388712 10.81989412  8.34665295 15.61724485\n",
      " 18.46587056 21.5755529  18.3058554  13.26229941 14.44461207 15.70643486\n",
      " 12.35964013 12.15314793 15.07733698 13.81130883 14.58907333 12.81853747\n",
      " 13.4756473  20.4354295   9.31405859  6.00906294  7.20488776 15.01944146\n",
      " 12.04992326 19.811929    7.27858622 21.38180019 15.39160828 10.03214107\n",
      " 10.53983476 15.08306    13.57378997 16.94774927 19.04298663  9.46649007\n",
      " 17.85870516 13.54903095  9.94896558 20.34681687 13.81735395  9.56926468\n",
      " 23.72096008 10.79953408  8.63773324 11.24010518 12.40769146 18.14373478\n",
      " 18.45265514 11.40269261 15.56703807 11.88220952 10.2153337   7.74321981\n",
      " 13.80214328 15.46536409 19.60667116 16.73598085 10.7926984   6.62560023\n",
      "  8.68487775 20.42932036  8.41229465 18.69049493  3.53948148 20.49710992\n",
      " 17.64745095 15.10651709 14.65968478 17.66290072  6.14039282  5.80114347\n",
      " 16.9968528   1.90279223 13.99562864 16.92495238 11.11165086 10.3051546\n",
      " 18.79569015 20.9300474   9.04871606 14.94816978 12.91763234  4.96801397\n",
      "  7.43485596  6.65212808 14.3259974   9.45731488 14.88731975 11.85202407\n",
      "  9.73436484 16.8153831  11.808282   15.15013899 20.44081833 18.4630466\n",
      " 17.53254379  7.87253301 10.61175274 19.64537922 15.84294556  6.48565146\n",
      " 22.31527565 10.12411991 16.6228532  12.52579849 14.1117322   8.76947433\n",
      " 13.75392292  8.7455843  17.73767369 10.29840933 23.32961693  7.3784476\n",
      " 16.14585212 19.39740107  9.59822617 17.16164357 16.79028265 20.04760417\n",
      " 22.70406011 14.93150789 20.73002843 17.58551946 19.32190258 10.09533716\n",
      "  7.75646831  8.96403971 21.42088191  5.80829224 16.94376875 15.28752628]\n",
      "Actual score: 80     11.8\n",
      "118    15.9\n",
      "137    20.8\n",
      "131    12.7\n",
      "126     6.6\n",
      "       ... \n",
      "64     18.0\n",
      "12      9.2\n",
      "93     22.2\n",
      "47     23.2\n",
      "77     14.2\n",
      "Name: sales, Length: 66, dtype: float64\n"
     ]
    }
   ],
   "source": [
    "pred = lr.predict(x_train)\n",
    "print(\"predicted result score:\",pred)\n",
    "print(\"Actual score:\",y_test)"
   ]
  },
  {
   "cell_type": "code",
   "execution_count": 55,
   "metadata": {},
   "outputs": [
    {
     "data": {
      "text/plain": [
       "0.899113122551847"
      ]
     },
     "execution_count": 55,
     "metadata": {},
     "output_type": "execute_result"
    }
   ],
   "source": [
    "from sklearn.linear_model import Ridge,Lasso,ElasticNet\n",
    "from sklearn.metrics import r2_score\n",
    "rdg=Ridge(alpha=0.0001,random_state=55)\n",
    "rdg.fit(x_train,y_train)\n",
    "rdg.score(x_train,y_train)"
   ]
  },
  {
   "cell_type": "code",
   "execution_count": 56,
   "metadata": {},
   "outputs": [
    {
     "data": {
      "text/plain": [
       "array([ 4.00259814,  2.71769572, -0.01103956])"
      ]
     },
     "execution_count": 56,
     "metadata": {},
     "output_type": "execute_result"
    }
   ],
   "source": [
    "rdg.coef_"
   ]
  },
  {
   "cell_type": "code",
   "execution_count": 57,
   "metadata": {},
   "outputs": [],
   "source": [
    "predict = rdg.predict(x_test)"
   ]
  },
  {
   "cell_type": "code",
   "execution_count": 58,
   "metadata": {},
   "outputs": [
    {
     "data": {
      "text/plain": [
       "array([11.9644538 , 15.88668356, 20.792635  , 15.02284136,  9.39520858,\n",
       "       12.01714153, 15.37818192, 17.00264365, 18.6357009 , 20.3815646 ,\n",
       "       23.33878516, 13.99851126,  9.77238359,  7.72534817, 18.41427281,\n",
       "        4.45068531,  7.64122323, 21.24667996, 13.3281348 , 17.42852261,\n",
       "       15.43213882, 20.37180509, 22.44750208, 12.09121901, 10.84144364,\n",
       "        9.96773799, 12.76286785, 19.47442131, 19.57614989,  3.51306577,\n",
       "       12.99484871, 13.21319032,  8.28125517, 11.47814788, 13.3248242 ,\n",
       "       10.05896801, 23.05711194, 16.39423536, 20.75267522, 13.14729194,\n",
       "       20.27832103, 10.55032398,  6.02569603, 17.57932866, 17.7455314 ,\n",
       "       18.62129605, 15.9984847 , 17.67492367,  9.76713354,  5.27888209,\n",
       "       12.3580951 , 19.20602568, 10.0538523 ,  2.28627644, 22.65039065,\n",
       "       10.81872605,  9.13393172, 15.85464851, 19.41080155, 12.65067728,\n",
       "        3.65222776, 16.96705144, 10.11180168, 21.05342864, 21.34636981,\n",
       "       14.42232634])"
      ]
     },
     "execution_count": 58,
     "metadata": {},
     "output_type": "execute_result"
    }
   ],
   "source": [
    "predict"
   ]
  },
  {
   "cell_type": "code",
   "execution_count": 59,
   "metadata": {},
   "outputs": [
    {
     "data": {
      "text/plain": [
       "0.8991131210536772"
      ]
     },
     "execution_count": 59,
     "metadata": {},
     "output_type": "execute_result"
    }
   ],
   "source": [
    "lso = Lasso(alpha = 0.0001,random_state = 45)\n",
    "lso.fit(x_train,y_train)\n",
    "lso.score(x_train,y_train)"
   ]
  },
  {
   "cell_type": "code",
   "execution_count": 60,
   "metadata": {},
   "outputs": [
    {
     "data": {
      "text/plain": [
       "array([ 4.00249843,  2.71756419, -0.01090427])"
      ]
     },
     "execution_count": 60,
     "metadata": {},
     "output_type": "execute_result"
    }
   ],
   "source": [
    "lso.coef_"
   ]
  },
  {
   "cell_type": "markdown",
   "metadata": {},
   "source": [
    "# Approaching more regressor"
   ]
  },
  {
   "cell_type": "code",
   "execution_count": 61,
   "metadata": {},
   "outputs": [],
   "source": [
    "from sklearn.tree import DecisionTreeRegressor\n",
    "from sklearn.neighbors import KNeighborsRegressor\n",
    "from sklearn.svm import SVR\n"
   ]
  },
  {
   "cell_type": "code",
   "execution_count": 62,
   "metadata": {},
   "outputs": [
    {
     "name": "stdout",
     "output_type": "stream",
     "text": [
      "DTC Score: 1.0\n",
      "r2_score: 0.9573675578737927\n",
      "Mean Squared error: 1.2984848484848481\n",
      "Root Mean Squared error: 1.1395107934920354\n"
     ]
    }
   ],
   "source": [
    "dtr = DecisionTreeRegressor()\n",
    "dtr.fit(x_train,y_train)\n",
    "print(\"DTC Score:\",dtr.score(x_train,y_train))\n",
    "\n",
    "dtr_pred = dtr.predict(x_test)\n",
    "print(\"r2_score:\",r2_score(y_test,dtr_pred))\n",
    "print(\"Mean Squared error:\",mean_squared_error(y_test,dtr_pred))\n",
    "print(\"Root Mean Squared error:\",np.sqrt(mean_squared_error(y_test,dtr_pred)))"
   ]
  },
  {
   "cell_type": "code",
   "execution_count": 63,
   "metadata": {},
   "outputs": [
    {
     "name": "stdout",
     "output_type": "stream",
     "text": [
      "[ 9.9 16.  19.7 11.8  7.2 10.9 12.3 14.8 15.  20.2 25.4 12.2  9.9  9.7\n",
      " 15.   5.3  6.6 23.7 10.9 15.7 14.9 21.2 24.2  9.9  9.9 10.1 13.4 22.6\n",
      " 19.8  7.3 12.9 13.2 10.9 10.4 12.9  8.7 22.1 12.3 21.7 15.3 20.2 11.6\n",
      "  8.7 15.  17.  17.1 15.6 17.  11.3  8.7 11.6 19.8 10.1  5.7 22.1  8.8\n",
      " 11.  14.9 20.1 12.9  6.7 15.2  8.8 22.1 21.8 15.2]\n"
     ]
    }
   ],
   "source": [
    "print(dtr_pred)"
   ]
  },
  {
   "cell_type": "code",
   "execution_count": 64,
   "metadata": {},
   "outputs": [
    {
     "name": "stdout",
     "output_type": "stream",
     "text": [
      "KNR Score: 0.9522987632111195\n",
      "r2_score: 0.9255262474579534\n",
      "Mean Squared error: 2.26829696969697\n",
      "Root Mean Squared error: 1.506086640833445\n"
     ]
    }
   ],
   "source": [
    "knr = KNeighborsRegressor()\n",
    "knr.fit(x_train,y_train)\n",
    "print(\"KNR Score:\",knr.score(x_train,y_train))\n",
    "\n",
    "knr_pred = knr.predict(x_test)\n",
    "print(\"r2_score:\",r2_score(y_test,knr_pred))\n",
    "print(\"Mean Squared error:\",mean_squared_error(y_test,knr_pred))\n",
    "print(\"Root Mean Squared error:\",np.sqrt(mean_squared_error(y_test,knr_pred)))"
   ]
  },
  {
   "cell_type": "code",
   "execution_count": 65,
   "metadata": {},
   "outputs": [
    {
     "name": "stdout",
     "output_type": "stream",
     "text": [
      "[10.66 16.7  20.12 12.12  8.2   6.6  12.64 15.84 17.26 18.94 22.16 12.26\n",
      " 10.68  8.5  14.66  8.06  7.4  22.36  8.12 15.54 15.04 21.04 24.18 12.64\n",
      " 11.18  9.92 13.18 21.   18.7   7.5  12.24 13.62 10.38  8.58 12.28  9.38\n",
      " 22.16 12.7  22.04 13.94 21.26 10.88  8.86 12.98 16.76 20.18 15.08 17.14\n",
      " 10.64  8.18 11.58 17.54  9.92  9.1  23.62  7.68 10.76 14.72 18.96 11.84\n",
      "  7.04 16.3   8.58 22.16 21.56 14.4 ]\n"
     ]
    }
   ],
   "source": [
    "print(knr_pred)"
   ]
  },
  {
   "cell_type": "code",
   "execution_count": 66,
   "metadata": {},
   "outputs": [
    {
     "name": "stdout",
     "output_type": "stream",
     "text": [
      "SVR Score: 0.9059379941587598\n",
      "r2_score: 0.8891144822960985\n",
      "Mean Squared error: 3.377314492767568\n",
      "Root Mean Squared error: 1.8377471242713366\n"
     ]
    }
   ],
   "source": [
    "svr = SVR()\n",
    "svr.fit(x_train,y_train)\n",
    "print(\"SVR Score:\",svr.score(x_train,y_train))\n",
    "\n",
    "svr_pred = svr.predict(x_test)\n",
    "print(\"r2_score:\",r2_score(y_test,svr_pred))\n",
    "print(\"Mean Squared error:\",mean_squared_error(y_test,svr_pred))\n",
    "print(\"Root Mean Squared error:\",np.sqrt(mean_squared_error(y_test,svr_pred)))"
   ]
  },
  {
   "cell_type": "code",
   "execution_count": 67,
   "metadata": {},
   "outputs": [
    {
     "name": "stdout",
     "output_type": "stream",
     "text": [
      "[11.65965952 15.88839771 18.76399135 12.14052363  8.88384816 11.21624368\n",
      " 13.26292008 15.56061337 15.6627581  19.09685825 19.64107592 12.23676743\n",
      " 10.24697301  8.49198239 15.20047274  8.2969768   8.4302948  21.18735016\n",
      " 12.24005423 15.72561968 14.77352685 20.6538364  21.56084473 11.80263523\n",
      " 11.24832029  9.43954567 12.60840514 17.86957838 18.73380789  7.77063129\n",
      " 12.40419279 13.17454022 10.50455995 10.66171256 12.6827997   9.29982423\n",
      " 20.10613349 12.9981398  20.89872004 12.86388717 19.15712854 10.73112315\n",
      "  8.67083596 14.24242785 17.11959993 18.31674678 15.64297362 16.88774882\n",
      " 10.27938284  8.15680817 11.30743484 18.46492583  9.53348844 10.50835962\n",
      " 20.66354424 10.09497295 10.33850305 14.88966182 19.80097195 12.12497496\n",
      "  7.78793186 17.42395407  9.68633972 19.3676952  20.66524105 14.57111042]\n"
     ]
    }
   ],
   "source": [
    "print(svr_pred)"
   ]
  },
  {
   "cell_type": "code",
   "execution_count": 68,
   "metadata": {},
   "outputs": [
    {
     "name": "stdout",
     "output_type": "stream",
     "text": [
      "SGDRegressor score : 0.8990793038117568\n",
      "r2_score: 0.9133909137918521\n",
      "Mean Squared error: 2.63791095639031\n",
      "Root Mean Squared error: 1.6241646949710211\n"
     ]
    }
   ],
   "source": [
    "from sklearn.linear_model import SGDRegressor\n",
    "sgdr = SGDRegressor()\n",
    "sgdr.fit(x_train,y_train)\n",
    "print(\"SGDRegressor score :\",sgdr.score(x_train,y_train))\n",
    "\n",
    "sgdr_pred = sgdr.predict(x_test)\n",
    "print(\"r2_score:\",r2_score(y_test,sgdr_pred))\n",
    "print(\"Mean Squared error:\",mean_squared_error(y_test,sgdr_pred))\n",
    "print(\"Root Mean Squared error:\",np.sqrt(mean_squared_error(y_test,sgdr_pred)))"
   ]
  },
  {
   "cell_type": "code",
   "execution_count": 69,
   "metadata": {},
   "outputs": [
    {
     "name": "stdout",
     "output_type": "stream",
     "text": [
      "[11.93967483 15.86549487 20.75983296 15.00933235  9.38052629 11.97890328\n",
      " 15.34773587 16.97261852 18.59139147 20.3360321  23.29904105 13.980636\n",
      "  9.75929839  7.71357474 18.38613356  4.43833266  7.63572924 21.20116539\n",
      " 13.28750881 17.39646837 15.4019031  20.3326497  22.40153731 12.06319201\n",
      " 10.82902332  9.94660641 12.74241701 19.41587312 19.53584042  3.51687697\n",
      " 12.97266427 13.19314514  8.25681884 11.4627385  13.29591562 10.03434666\n",
      " 23.01706332 16.36349128 20.70637182 13.12659883 20.22474441 10.53251005\n",
      "  6.02243818 17.54929971 17.69939657 18.59424507 15.9673371  17.64986542\n",
      "  9.75695729  5.27901606 12.34313833 19.16077859 10.03261977  2.27874347\n",
      " 22.60954343 10.78604999  9.12817227 15.83707785 19.37578178 12.63675725\n",
      "  3.65784173 16.92942401 10.10031924 21.02038648 21.29612592 14.38829649]\n"
     ]
    }
   ],
   "source": [
    "print(sgdr_pred)"
   ]
  },
  {
   "cell_type": "code",
   "execution_count": 70,
   "metadata": {},
   "outputs": [
    {
     "name": "stdout",
     "output_type": "stream",
     "text": [
      "GridSearchCV(estimator=Ridge(),\n",
      "             param_grid={'alpha': [1, 0.1, 0.01, 0.001, 0.0001]})\n",
      "0.8969189470297868\n",
      "1\n",
      "{'alpha': 1}\n"
     ]
    }
   ],
   "source": [
    "from sklearn.model_selection import GridSearchCV\n",
    "\n",
    "\n",
    "alphavalue = {\"alpha\":[1,0.1,0.01,0.001,0.0001]}\n",
    "model = Ridge()\n",
    "\n",
    "grid = GridSearchCV(estimator=model,param_grid = alphavalue)\n",
    "\n",
    "grid.fit(x_test,y_test)\n",
    "print (grid)\n",
    "\n",
    "\n",
    "print(grid.best_score_)\n",
    "print(grid.best_estimator_.alpha)\n",
    "print(grid.best_params_)"
   ]
  },
  {
   "cell_type": "code",
   "execution_count": 71,
   "metadata": {},
   "outputs": [],
   "source": [
    "from sklearn.metrics import explained_variance_score,mean_absolute_error,r2_score"
   ]
  },
  {
   "cell_type": "code",
   "execution_count": 72,
   "metadata": {},
   "outputs": [],
   "source": [
    "from time import time\n",
    "from sklearn.linear_model import LinearRegression, Ridge,Lasso\n",
    "from sklearn.neighbors import KNeighborsRegressor\n",
    "from sklearn.ensemble import GradientBoostingRegressor\n",
    "from sklearn.ensemble import ExtraTreesRegressor, RandomForestRegressor\n",
    "from sklearn.tree import DecisionTreeRegressor"
   ]
  },
  {
   "cell_type": "code",
   "execution_count": 73,
   "metadata": {},
   "outputs": [],
   "source": [
    "regressors = [\n",
    "    KNeighborsRegressor(),\n",
    "    GradientBoostingRegressor(),\n",
    "    KNeighborsRegressor(),\n",
    "    ExtraTreesRegressor(),\n",
    "    RandomForestRegressor(),\n",
    "    DecisionTreeRegressor(),\n",
    "    LinearRegression(),\n",
    "    Lasso(),\n",
    "    Ridge()\n",
    "]"
   ]
  },
  {
   "cell_type": "code",
   "execution_count": 74,
   "metadata": {},
   "outputs": [
    {
     "name": "stdout",
     "output_type": "stream",
     "text": [
      "KNeighborsRegressor()\n",
      "\tTraining time: 0.000s\n",
      "\tPrediction time: 0.000s\n",
      "\tExplained variance: 0.9272357328635288\n",
      "\tMean absolute error: 1.0342424242424246\n",
      "\tR2 score: 0.9255262474579534\n",
      "\n",
      "GradientBoostingRegressor()\n",
      "\tTraining time: 0.057s\n",
      "\tPrediction time: 0.069s\n",
      "\tExplained variance: 0.9841170992137115\n",
      "\tMean absolute error: 0.5690165104989012\n",
      "\tR2 score: 0.9839345822986281\n",
      "\n",
      "KNeighborsRegressor()\n",
      "\tTraining time: 0.000s\n",
      "\tPrediction time: 0.000s\n",
      "\tExplained variance: 0.9272357328635288\n",
      "\tMean absolute error: 1.0342424242424246\n",
      "\tR2 score: 0.9255262474579534\n",
      "\n",
      "ExtraTreesRegressor()\n",
      "\tTraining time: 0.185s\n",
      "\tPrediction time: 0.016s\n",
      "\tExplained variance: 0.9906661596982248\n",
      "\tMean absolute error: 0.4267272727272738\n",
      "\tR2 score: 0.9905934456445408\n",
      "\n",
      "RandomForestRegressor()\n",
      "\tTraining time: 0.251s\n",
      "\tPrediction time: 0.023s\n",
      "\tExplained variance: 0.9836520663302972\n",
      "\tMean absolute error: 0.5759090909090914\n",
      "\tR2 score: 0.9835693871599634\n",
      "\n",
      "DecisionTreeRegressor()\n",
      "\tTraining time: 0.001s\n",
      "\tPrediction time: 0.000s\n",
      "\tExplained variance: 0.9557382210373261\n",
      "\tMean absolute error: 0.862121212121212\n",
      "\tR2 score: 0.9556115191257704\n",
      "\n",
      "LinearRegression()\n",
      "\tTraining time: 0.001s\n",
      "\tPrediction time: 0.000s\n",
      "\tExplained variance: 0.9133353323060472\n",
      "\tMean absolute error: 1.293092943875033\n",
      "\tR2 score: 0.9133244952425986\n",
      "\n",
      "Lasso()\n",
      "\tTraining time: 0.000s\n",
      "\tPrediction time: 0.001s\n",
      "\tExplained variance: 0.8310599610788032\n",
      "\tMean absolute error: 1.7552452756678925\n",
      "\tR2 score: 0.8305595623752374\n",
      "\n",
      "Ridge()\n",
      "\tTraining time: 0.001s\n",
      "\tPrediction time: 0.000s\n",
      "\tExplained variance: 0.9134271520427527\n",
      "\tMean absolute error: 1.2946569984992746\n",
      "\tR2 score: 0.9134204253929473\n",
      "\n"
     ]
    }
   ],
   "source": [
    "head = 10\n",
    "for model in regressors[:head]:\n",
    "    start = time()\n",
    "    model.fit(x_train, y_train)\n",
    "    train_time = time() - start\n",
    "    start = time()\n",
    "    y_pred = model.predict(x_test)\n",
    "    predict_time = time()-start    \n",
    "    print(model)\n",
    "    print(\"\\tTraining time: %0.3fs\" % train_time)\n",
    "    print(\"\\tPrediction time: %0.3fs\" % predict_time)\n",
    "    print(\"\\tExplained variance:\", explained_variance_score(y_test, y_pred))\n",
    "    print(\"\\tMean absolute error:\", mean_absolute_error(y_test, y_pred))\n",
    "    print(\"\\tR2 score:\", r2_score(y_test, y_pred))\n",
    "    print()"
   ]
  },
  {
   "cell_type": "code",
   "execution_count": null,
   "metadata": {},
   "outputs": [],
   "source": []
  },
  {
   "cell_type": "code",
   "execution_count": null,
   "metadata": {},
   "outputs": [],
   "source": []
  },
  {
   "cell_type": "markdown",
   "metadata": {},
   "source": [
    "# Apporaching Ensemble Method"
   ]
  },
  {
   "cell_type": "code",
   "execution_count": 75,
   "metadata": {},
   "outputs": [
    {
     "name": "stdout",
     "output_type": "stream",
     "text": [
      "[11.839 15.48  20.318 11.871  6.121 11.123 12.52  15.315 15.182 20.107\n",
      " 24.998 12.108 10.079  9.587 15.057  4.929  7.379 22.766 12.346 15.559\n",
      " 14.892 22.5   24.327 11.929 11.437 10.373 13.242 21.472 19.444  7.374\n",
      " 13.461 13.138 10.024 10.709 13.194  8.215 24.401 12.149 22.458 12.897\n",
      " 20.045 11.133  8.836 14.259 16.89  18.606 15.297 16.577 10.764  8.649\n",
      " 11.551 19.626 10.385  5.458 22.865  8.544 10.687 15.031 19.799 12.614\n",
      "  6.908 16.711  8.524 21.612 22.675 14.374]\n",
      "RFScore: 0.9955963701864239\n",
      "r2_score: 0.9843016165158994\n"
     ]
    }
   ],
   "source": [
    "from sklearn.ensemble import RandomForestRegressor\n",
    "rf = RandomForestRegressor(n_estimators =100,random_state = 42)\n",
    "rf.fit(x_train,y_train)\n",
    "predict = rf.predict(x_test)\n",
    "\n",
    "print(predict)\n",
    "print(\"RFScore:\",rf.score(x_train,y_train))\n",
    "print(\"r2_score:\",r2_score(y_test,predict))\n"
   ]
  },
  {
   "cell_type": "code",
   "execution_count": 76,
   "metadata": {},
   "outputs": [
    {
     "name": "stdout",
     "output_type": "stream",
     "text": [
      "[12.35       15.48181818 20.07037037 12.3625      6.425      10.07083333\n",
      " 13.02068966 15.04090909 14.87777778 20.07037037 24.805      12.53333333\n",
      " 10.87241379 10.07083333 14.87777778  5.44444444  7.57272727 22.91875\n",
      " 11.79473684 15.04090909 15.02173913 22.48333333 23.89545455 12.86\n",
      " 11.61666667 10.175      13.02068966 21.53636364 19.60882353  8.\n",
      " 13.03076923 13.74       10.5         9.88823529 13.02068966  7.71111111\n",
      " 23.90882353 12.3625     22.225      13.51333333 20.11764706 11.87368421\n",
      " 10.27       14.81818182 16.42       19.14727273 16.13333333 16.27692308\n",
      " 11.61666667  9.85       12.3625     19.46666667 10.27        6.25714286\n",
      " 21.71162791  8.41428571 10.895      15.04090909 19.60882353 12.53333333\n",
      "  7.32727273 16.84        8.41428571 20.98888889 22.06842105 15.18157895]\n",
      "AdaBoostScore: 0.9749381748905765\n",
      "r2_score: 0.9692787462666865\n"
     ]
    }
   ],
   "source": [
    "from sklearn.ensemble import AdaBoostRegressor\n",
    "\n",
    "ada=AdaBoostRegressor(n_estimators=50,random_state=42) #by default=100\n",
    "ada.fit(x_train,y_train)\n",
    "predict=ada.predict(x_test)\n",
    "\n",
    "print(predict)\n",
    "print(\"AdaBoostScore:\",ada.score(x_train,y_train))\n",
    "print(\"r2_score:\",r2_score(y_test,predict))"
   ]
  },
  {
   "cell_type": "code",
   "execution_count": 77,
   "metadata": {},
   "outputs": [
    {
     "name": "stdout",
     "output_type": "stream",
     "text": [
      "[12.14447959 15.73914129 20.93257223 12.00077424  5.61932896 10.24904872\n",
      " 12.63235213 15.1227884  14.9251396  20.39388782 25.34623565 12.07146525\n",
      " 10.37503469  9.10115111 15.04962157  5.31645915  7.53418605 23.35652236\n",
      " 11.1234907  15.64636074 14.66260908 22.83387913 25.06556859 11.90949258\n",
      " 11.19793014  9.97775438 12.85640084 21.3443612  19.94780182  7.0230666\n",
      " 13.09613081 12.46280758 10.03840079 10.198854   12.87969732  7.73261004\n",
      " 24.36061357 12.2050757  23.42414771 13.42866539 20.05799797 11.1552689\n",
      "  8.73514413 14.97666937 16.73725164 18.22779003 15.54024351 17.17223715\n",
      " 10.89349546  8.20901945 11.49244316 19.79218109  9.82839539  5.44139453\n",
      " 23.57122299  8.37209808 10.52844006 14.8757405  19.88359687 12.09824294\n",
      "  6.5772476  16.29411707  8.33303502 20.59044379 22.60013782 14.67257007]\n",
      "Gradient Score: 0.9989231558639313\n",
      "r2_score: 0.9835572346384559\n"
     ]
    }
   ],
   "source": [
    "from sklearn.ensemble import GradientBoostingRegressor\n",
    "grad=GradientBoostingRegressor() #by default=100\n",
    "grad.fit(x_train,y_train)\n",
    "predict=grad.predict(x_test)\n",
    "\n",
    "print(predict)\n",
    "print(\"Gradient Score:\",grad.score(x_train,y_train))\n",
    "print(\"r2_score:\",r2_score(y_test,predict))"
   ]
  },
  {
   "cell_type": "code",
   "execution_count": 78,
   "metadata": {},
   "outputs": [
    {
     "data": {
      "text/html": [
       "<div>\n",
       "<style scoped>\n",
       "    .dataframe tbody tr th:only-of-type {\n",
       "        vertical-align: middle;\n",
       "    }\n",
       "\n",
       "    .dataframe tbody tr th {\n",
       "        vertical-align: top;\n",
       "    }\n",
       "\n",
       "    .dataframe thead th {\n",
       "        text-align: right;\n",
       "    }\n",
       "</style>\n",
       "<table border=\"1\" class=\"dataframe\">\n",
       "  <thead>\n",
       "    <tr style=\"text-align: right;\">\n",
       "      <th></th>\n",
       "      <th>0</th>\n",
       "    </tr>\n",
       "  </thead>\n",
       "  <tbody>\n",
       "    <tr>\n",
       "      <th>0</th>\n",
       "      <td>9.9</td>\n",
       "    </tr>\n",
       "    <tr>\n",
       "      <th>1</th>\n",
       "      <td>16.0</td>\n",
       "    </tr>\n",
       "    <tr>\n",
       "      <th>2</th>\n",
       "      <td>19.7</td>\n",
       "    </tr>\n",
       "    <tr>\n",
       "      <th>3</th>\n",
       "      <td>11.8</td>\n",
       "    </tr>\n",
       "    <tr>\n",
       "      <th>4</th>\n",
       "      <td>7.2</td>\n",
       "    </tr>\n",
       "    <tr>\n",
       "      <th>...</th>\n",
       "      <td>...</td>\n",
       "    </tr>\n",
       "    <tr>\n",
       "      <th>61</th>\n",
       "      <td>15.2</td>\n",
       "    </tr>\n",
       "    <tr>\n",
       "      <th>62</th>\n",
       "      <td>8.8</td>\n",
       "    </tr>\n",
       "    <tr>\n",
       "      <th>63</th>\n",
       "      <td>22.1</td>\n",
       "    </tr>\n",
       "    <tr>\n",
       "      <th>64</th>\n",
       "      <td>21.8</td>\n",
       "    </tr>\n",
       "    <tr>\n",
       "      <th>65</th>\n",
       "      <td>15.2</td>\n",
       "    </tr>\n",
       "  </tbody>\n",
       "</table>\n",
       "<p>66 rows × 1 columns</p>\n",
       "</div>"
      ],
      "text/plain": [
       "       0\n",
       "0    9.9\n",
       "1   16.0\n",
       "2   19.7\n",
       "3   11.8\n",
       "4    7.2\n",
       "..   ...\n",
       "61  15.2\n",
       "62   8.8\n",
       "63  22.1\n",
       "64  21.8\n",
       "65  15.2\n",
       "\n",
       "[66 rows x 1 columns]"
      ]
     },
     "execution_count": 78,
     "metadata": {},
     "output_type": "execute_result"
    }
   ],
   "source": [
    "preddf = pd.DataFrame(data = dtr_pred)\n",
    "preddf"
   ]
  },
  {
   "cell_type": "markdown",
   "metadata": {},
   "source": [
    "# Saving the best model"
   ]
  },
  {
   "cell_type": "code",
   "execution_count": 79,
   "metadata": {},
   "outputs": [
    {
     "data": {
      "text/plain": [
       "array([ 9.9, 16. , 19.7, 11.8,  7.2, 10.9, 12.3, 14.8, 15. , 20.2, 25.4,\n",
       "       12.2,  9.9,  9.7, 15. ,  5.3,  6.6, 23.7, 10.9, 15.7, 14.9, 21.2,\n",
       "       24.2,  9.9,  9.9, 10.1, 13.4, 22.6, 19.8,  7.3, 12.9, 13.2, 10.9,\n",
       "       10.4, 12.9,  8.7, 22.1, 12.3, 21.7, 15.3, 20.2, 11.6,  8.7, 15. ,\n",
       "       17. , 17.1, 15.6, 17. , 11.3,  8.7, 11.6, 19.8, 10.1,  5.7, 22.1,\n",
       "        8.8, 11. , 14.9, 20.1, 12.9,  6.7, 15.2,  8.8, 22.1, 21.8, 15.2])"
      ]
     },
     "execution_count": 79,
     "metadata": {},
     "output_type": "execute_result"
    }
   ],
   "source": [
    "import joblib \n",
    "joblib.dump(dtr,'dtrmodel.obj')\n",
    "dtrloadmodel = joblib.load('dtrmodel.obj')\n",
    "dtrloadmodel.predict(x_test)"
   ]
  },
  {
   "cell_type": "markdown",
   "metadata": {},
   "source": [
    "# Conclusion"
   ]
  },
  {
   "cell_type": "code",
   "execution_count": 80,
   "metadata": {},
   "outputs": [
    {
     "data": {
      "text/html": [
       "<div>\n",
       "<style scoped>\n",
       "    .dataframe tbody tr th:only-of-type {\n",
       "        vertical-align: middle;\n",
       "    }\n",
       "\n",
       "    .dataframe tbody tr th {\n",
       "        vertical-align: top;\n",
       "    }\n",
       "\n",
       "    .dataframe thead th {\n",
       "        text-align: right;\n",
       "    }\n",
       "</style>\n",
       "<table border=\"1\" class=\"dataframe\">\n",
       "  <thead>\n",
       "    <tr style=\"text-align: right;\">\n",
       "      <th></th>\n",
       "      <th>Original</th>\n",
       "      <th>Predicted</th>\n",
       "    </tr>\n",
       "  </thead>\n",
       "  <tbody>\n",
       "    <tr>\n",
       "      <th>0</th>\n",
       "      <td>11.8</td>\n",
       "      <td>9.9</td>\n",
       "    </tr>\n",
       "    <tr>\n",
       "      <th>1</th>\n",
       "      <td>15.9</td>\n",
       "      <td>16.0</td>\n",
       "    </tr>\n",
       "    <tr>\n",
       "      <th>2</th>\n",
       "      <td>20.8</td>\n",
       "      <td>19.7</td>\n",
       "    </tr>\n",
       "    <tr>\n",
       "      <th>3</th>\n",
       "      <td>12.7</td>\n",
       "      <td>11.8</td>\n",
       "    </tr>\n",
       "    <tr>\n",
       "      <th>4</th>\n",
       "      <td>6.6</td>\n",
       "      <td>7.2</td>\n",
       "    </tr>\n",
       "    <tr>\n",
       "      <th>...</th>\n",
       "      <td>...</td>\n",
       "      <td>...</td>\n",
       "    </tr>\n",
       "    <tr>\n",
       "      <th>61</th>\n",
       "      <td>18.0</td>\n",
       "      <td>15.2</td>\n",
       "    </tr>\n",
       "    <tr>\n",
       "      <th>62</th>\n",
       "      <td>9.2</td>\n",
       "      <td>8.8</td>\n",
       "    </tr>\n",
       "    <tr>\n",
       "      <th>63</th>\n",
       "      <td>22.2</td>\n",
       "      <td>22.1</td>\n",
       "    </tr>\n",
       "    <tr>\n",
       "      <th>64</th>\n",
       "      <td>23.2</td>\n",
       "      <td>21.8</td>\n",
       "    </tr>\n",
       "    <tr>\n",
       "      <th>65</th>\n",
       "      <td>14.2</td>\n",
       "      <td>15.2</td>\n",
       "    </tr>\n",
       "  </tbody>\n",
       "</table>\n",
       "<p>66 rows × 2 columns</p>\n",
       "</div>"
      ],
      "text/plain": [
       "    Original  Predicted\n",
       "0       11.8        9.9\n",
       "1       15.9       16.0\n",
       "2       20.8       19.7\n",
       "3       12.7       11.8\n",
       "4        6.6        7.2\n",
       "..       ...        ...\n",
       "61      18.0       15.2\n",
       "62       9.2        8.8\n",
       "63      22.2       22.1\n",
       "64      23.2       21.8\n",
       "65      14.2       15.2\n",
       "\n",
       "[66 rows x 2 columns]"
      ]
     },
     "execution_count": 80,
     "metadata": {},
     "output_type": "execute_result"
    }
   ],
   "source": [
    "a = np.array(y_test)\n",
    "predicted = np.array(dtr.predict(x_test))\n",
    "df_Ads = pd.DataFrame({\"Original\":a,\"Predicted\":predicted},index = range(len(a)))\n",
    "df_Ads"
   ]
  },
  {
   "cell_type": "code",
   "execution_count": null,
   "metadata": {},
   "outputs": [],
   "source": []
  }
 ],
 "metadata": {
  "kernelspec": {
   "display_name": "Python 3",
   "language": "python",
   "name": "python3"
  },
  "language_info": {
   "codemirror_mode": {
    "name": "ipython",
    "version": 3
   },
   "file_extension": ".py",
   "mimetype": "text/x-python",
   "name": "python",
   "nbconvert_exporter": "python",
   "pygments_lexer": "ipython3",
   "version": "3.8.5"
  }
 },
 "nbformat": 4,
 "nbformat_minor": 4
}
